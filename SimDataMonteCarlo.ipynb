{
 "cells": [
  {
   "cell_type": "code",
   "execution_count": 22,
   "metadata": {},
   "outputs": [],
   "source": [
    "import paco.processing.paco as p\n",
    "import paco.processing.fullpaco as f_paco\n",
    "import paco.processing.fastpaco as fastPACO\n",
    "\n",
    "from paco.util.util import *\n",
    "import cv2 as cv2\n",
    "from astropy.convolution import convolve, Gaussian2DKernel, AiryDisk2DKernel\n",
    "from astropy.modeling.models import Gaussian2D\n",
    "import numpy as np\n",
    "import matplotlib.pyplot as plt\n",
    "from matplotlib.colors import LogNorm \n",
    "\n",
    "from multiprocessing import Pool\n",
    "\n",
    "# MC Parameters\n",
    "nFrames = 5\n",
    "angle = 60\n",
    "angles = np.linspace(0,angle,nFrames)\n",
    "psig = [(30,30)]\n",
    "nTrials = 5\n",
    "nProcess = min(nTrials,8)\n",
    "np.random.seed(4096)"
   ]
  },
  {
   "cell_type": "markdown",
   "metadata": {},
   "source": [
    "This notebook will generate a series of image stacks with gaussian distributed noise backgrounds. Multiple MC trials are run to determine the distribution of the PACO outputs."
   ]
  },
  {
   "cell_type": "code",
   "execution_count": 29,
   "metadata": {
    "scrolled": true
   },
   "outputs": [],
   "source": [
    "def GenerateImageStack(nFrames,angles,signalStrength,noiseLevel,dim = 100):  \n",
    "    # Hardcoded source location\n",
    "    p0 = (30,30)\n",
    "    mean = 0\n",
    "\n",
    "    images = [np.reshape(np.random.normal(mean, noiseLevel, dim**2), (dim,dim)) for j in range(nFrames)]\n",
    "    X,Y = np.meshgrid(np.arange(-dim/2, dim/2),np.arange(-dim/2, dim))\n",
    "    xx, yy = np.meshgrid(np.arange(-30, dim-30),np.arange(-30, dim-30))\n",
    "    s = gaussian2d(xx,yy,signalStrength/np.sqrt(nFrames), 2)\n",
    "\n",
    "    #images_signal = [i + s for i in images]\n",
    "    rot_noise = np.array([rotateImage(images[j], angles[j]) for j in range(nFrames)])\n",
    "    rot_sigs = np.array([rotateImage(s, angles[j]) for j in range(nFrames)])\n",
    "    rot_images = np.array([rot_noise[j] + rot_sigs[j] for j in range(nFrames)])\n",
    "    return rot_images\n",
    "\n",
    "def GetImPatch(im,px,width):\n",
    "        k = int(width/2)\n",
    "        nx, ny = np.shape(im.shape)[:2]\n",
    "        if px[0]+k > nx or px[0]-k < 0 or px[1]+k > ny or px[1]-k < 0:\n",
    "            #print(\"pixel out of range\")\n",
    "            return None\n",
    "        patch = im[i][int(px[0])-k:int(px[0])+k, int(px[1])-k:int(px[1])+k]\n",
    "        return patch\n",
    "\n",
    "def pacoTrial(im_stack):\n",
    "    #im_stack = GenerateImageStack(nFrames,angles,5.0,1.0)\n",
    "    fp = fastPACO.FastPACO(image_stack = im_stack,\n",
    "                           angles = angles)\n",
    "\n",
    "    a,b = fp.PACO(cpu = 1,\n",
    "                  model_params={\"sigma\":2.0},\n",
    "                  model_name = gaussian2dModel)\n",
    "    est = fp.fluxEstimate(phi0s = psig,\n",
    "                          eps = 0.05,\n",
    "                          initial_est = 0.0)\n",
    "    return (a,b,est)"
   ]
  },
  {
   "cell_type": "code",
   "execution_count": 31,
   "metadata": {},
   "outputs": [
    {
     "name": "stdout",
     "output_type": "stream",
     "text": [
      "Precomputing Statistics...\n",
      "Precomputing Statistics...\n",
      "Precomputing Statistics...\n",
      "Precomputing Statistics...\n",
      "Precomputing Statistics...\n",
      "Running PACO...\n",
      "Running PACO...\n",
      "Running PACO...\n",
      "Running PACO...\n",
      "Running PACO...\n",
      "Done\n",
      "Computing unbiased flux estimate...\n",
      "Done\n",
      "Computing unbiased flux estimate...\n",
      "Done\n",
      "Computing unbiased flux estimate...\n",
      "Done\n",
      "Computing unbiased flux estimate...\n",
      "Done\n",
      "Computing unbiased flux estimate...\n"
     ]
    }
   ],
   "source": [
    "trials = [GenerateImageStack(nFrames,angles,5.0,1.0) for i in range(nTrials)]\n",
    "\n",
    "#for t in trials:\n",
    "#    print(t[0])\n",
    "pool = Pool(processes = nProcess)\n",
    "data = pool.map(pacoTrial,trials)\n",
    "pool.close()\n",
    "pool.join()\n"
   ]
  },
  {
   "cell_type": "code",
   "execution_count": 32,
   "metadata": {},
   "outputs": [
    {
     "name": "stdout",
     "output_type": "stream",
     "text": [
      "(array([[nan, nan, nan, ..., nan, nan, nan],\n",
      "       [nan, nan, nan, ..., nan, nan, nan],\n",
      "       [nan, nan, nan, ..., nan, nan, nan],\n",
      "       ...,\n",
      "       [nan, nan, nan, ..., nan, nan, nan],\n",
      "       [nan, nan, nan, ..., nan, nan, nan],\n",
      "       [nan, nan, nan, ..., nan, nan, nan]]), array([[nan, nan, nan, ..., nan, nan, nan],\n",
      "       [nan, nan, nan, ..., nan, nan, nan],\n",
      "       [nan, nan, nan, ..., nan, nan, nan],\n",
      "       ...,\n",
      "       [nan, nan, nan, ..., nan, nan, nan],\n",
      "       [nan, nan, nan, ..., nan, nan, nan],\n",
      "       [nan, nan, nan, ..., nan, nan, nan]]), [26.852589212198193])\n"
     ]
    }
   ],
   "source": [
    "print(data[0])\n",
    "alist,blist,flux = [],[],[]\n",
    "for d in data:\n",
    "    alist.append(d[0])\n",
    "    blist.append(d[1])\n",
    "    flux.append(d[2])\n",
    "alist = np.array(alist)\n",
    "blist = np.array(blist)\n",
    "flux = np.array(flux)"
   ]
  },
  {
   "cell_type": "code",
   "execution_count": 33,
   "metadata": {
    "scrolled": true
   },
   "outputs": [
    {
     "name": "stdout",
     "output_type": "stream",
     "text": [
      "1.2984015351479612 0.39457341228086035\n",
      "1.0483836812336118 0.3187382137141679\n",
      "1.4323928760352724 0.3800737651314047\n",
      "1.9166650278981032 0.3012940951072934\n",
      "1.4973748244237681 0.35606440023509295\n"
     ]
    }
   ],
   "source": [
    "var = []\n",
    "peak = []\n",
    "snr = []\n",
    "sig = []\n",
    "var_full = []\n",
    "#Should do this with numpy slicing...\n",
    "for i in range(nTrials):\n",
    "    print(blist[i][30][30],alist[i][30][30])\n",
    "    var.append(alist[i][30][30])\n",
    "    peak.append(blist[i][30][30]/ alist[i][30][30])\n",
    "    snr.append(blist[i][30][30]/ np.sqrt(alist[i][30][30]))\n",
    "    sig.append(blist[i][30][30])\n",
    "    var_full.append(np.var(blist[i]/alist[i]))\n",
    "var = np.array(var)\n",
    "peak = np.array(peak)\n",
    "snr = np.array(snr)\n",
    "var_full = np.array(var_full)\n",
    "\n",
    "\n",
    "#var = np.array(alist[0:nTrials-1][30][30])\n",
    "#peak = blist[0:nTrials-1][30][30]/ alist[0:nTrials-1][30][30]\n",
    "#snr = blist[0:nTrials-1][30][30]/ np.sqrt(alist[0:nTrials-1][30][30])\n",
    "#sig = blist[0:nTrials-1][30][30]\n",
    "#var_full = np.var(blist[0:nTrials-1]/ alist[0:nTrials-1])"
   ]
  },
  {
   "cell_type": "code",
   "execution_count": 34,
   "metadata": {},
   "outputs": [
    {
     "name": "stdout",
     "output_type": "stream",
     "text": [
      "[3.29064629 3.28916847 3.76872336 6.36144239 4.20534831]\n",
      "1.3025931514518747 0.35014877729376387\n"
     ]
    }
   ],
   "source": [
    "print(peak)\n",
    "print(np.var(peak),np.mean(var))"
   ]
  },
  {
   "cell_type": "code",
   "execution_count": 35,
   "metadata": {},
   "outputs": [
    {
     "name": "stderr",
     "output_type": "stream",
     "text": [
      "/home/evert/.local/share/virtualenvs/PACO-4ds6DMDq/lib/python3.7/site-packages/matplotlib/cbook/__init__.py:2349: DeprecationWarning: Using or importing the ABCs from 'collections' instead of from 'collections.abc' is deprecated, and in 3.8 it will stop working\n",
      "  if isinstance(obj, collections.Iterator):\n",
      "/home/evert/.local/share/virtualenvs/PACO-4ds6DMDq/lib/python3.7/site-packages/matplotlib/cbook/__init__.py:2366: DeprecationWarning: Using or importing the ABCs from 'collections' instead of from 'collections.abc' is deprecated, and in 3.8 it will stop working\n",
      "  return list(data) if isinstance(data, collections.MappingView) else data\n"
     ]
    },
    {
     "data": {
      "image/png": "[encoded data removed]",
      "text/plain": [
       "<Figure size 432x288 with 1 Axes>"
      ]
     },
     "metadata": {
      "needs_background": "light"
     },
     "output_type": "display_data"
    }
   ],
   "source": [
    "plt.figure()\n",
    "plt.hist(peak)\n",
    "plt.show()"
   ]
  },
  {
   "cell_type": "code",
   "execution_count": null,
   "metadata": {},
   "outputs": [],
   "source": []
  }
 ],
 "metadata": {
  "kernelspec": {
   "display_name": "Python 3",
   "language": "python",
   "name": "python3"
  },
  "language_info": {
   "codemirror_mode": {
    "name": "ipython",
    "version": 3
   },
   "file_extension": ".py",
   "mimetype": "text/x-python",
   "name": "python",
   "nbconvert_exporter": "python",
   "pygments_lexer": "ipython3",
   "version": "3.7.1"
  }
 },
 "nbformat": 4,
 "nbformat_minor": 2
}
