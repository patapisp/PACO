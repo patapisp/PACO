{
 "cells": [
  {
   "cell_type": "code",
   "execution_count": 1,
   "metadata": {},
   "outputs": [
    {
     "name": "stderr",
     "output_type": "stream",
     "text": [
      "WARNING: AstropyDeprecationWarning: Composition of model classes will be removed in 4.0 (but composition of model instances is not affected) [astropy.modeling.core]\n"
     ]
    }
   ],
   "source": [
    "import os\n",
    "import numpy as np\n",
    "import matplotlib.pyplot as plt\n",
    "from astropy.io import fits\n",
    "\n",
    "from pynpoint import Pypeline, \\\n",
    "                     Hdf5ReadingModule, \\\n",
    "                     FitsReadingModule, \\\n",
    "                     FitsWritingModule, \\\n",
    "                     AngleCalculationModule#, \\\n",
    "                     #TextReading\n",
    "\n",
    "from paco import PACOModule\n",
    "from paco.util.util import *"
   ]
  },
  {
   "cell_type": "code",
   "execution_count": 2,
   "metadata": {
    "scrolled": true
   },
   "outputs": [],
   "source": [
    "working_dir = os.getcwd()\n",
    "input_dir = working_dir + \"/testData/injected/\"\n",
    "output_dir = working_dir + \"/output/\"\n",
    "\n",
    "fits_filename = \"naco_betapic_injected.fits\"\n",
    "psf_filename = \"gausspsf.fits\"\n",
    "par_filename =\"naco_betapic_pa.dat\"\n",
    "\n",
    "#angles = fits.getdata(input_dir + par_filename).flatten()\n",
    "#ang = open(input_dir + \"naco_betapic_pa.dat\",'w+')\n",
    "#for a in angles:\n",
    "#    ang.writelines(str(a) + '\\n')\n",
    "#ang.close()\n",
    "\n",
    "angles = np.genfromtxt(input_dir + par_filename)"
   ]
  },
  {
   "cell_type": "code",
   "execution_count": 3,
   "metadata": {},
   "outputs": [],
   "source": [
    "#xx, yy = np.meshgrid(np.arange(-4, 5),np.arange(-4, 5))\n",
    "#s = gaussian2d(xx,yy,1, 2)\n",
    "#s = s/np.sum(s)\n",
    "#angles = np.genfromtxt(input_dir + \"sphere_v471tau_pa.fits\")\n"
   ]
  },
  {
   "cell_type": "code",
   "execution_count": 4,
   "metadata": {},
   "outputs": [
    {
     "name": "stdout",
     "output_type": "stream",
     "text": [
      "Initiating PynPoint v0.8.0... [DONE]\n"
     ]
    }
   ],
   "source": [
    "pipeline = Pypeline(working_place_in = working_dir,\n",
    "                   input_place_in = input_dir,\n",
    "                   output_place_in = output_dir)\n",
    "\n",
    "module = FitsReadingModule(name_in = \"read1\",\n",
    "                           image_tag = \"science\",\n",
    "                           input_dir = input_dir)\n",
    "pipeline.add_module(module)\n",
    "\n",
    "module = FitsReadingModule(name_in = \"read2\",\n",
    "                          input_dir = working_dir + \"/testData/vip_datasets/gausspsf/\",\n",
    "                          image_tag = 'psf')\n",
    "pipeline.add_module(module)\n",
    "\n",
    "\n",
    "# Angles and PSF should be read from Pynpoint database\n",
    "module = PACOModule(name_in = \"paco\",\n",
    "                    image_in_tag = \"science\",\n",
    "                    snr_out_tag = \"paco_snr\",\n",
    "                    flux_out_tag = \"paco_flux\",\n",
    "                    angles = angles,\n",
    "                    psf_in_tag = 'psf',\n",
    "                    psf_rad = 0.104,\n",
    "                    scaling = 1,\n",
    "                    algorithm = \"fastpaco\",\n",
    "                    flux_calc = True,\n",
    "                    cpu_limit = 1,\n",
    "                    threshold = 3.0,\n",
    "                    flux_prec = 0.2,\n",
    "                    verbose = True)\n",
    "pipeline.add_module(module)\n",
    "\n",
    "module = FitsWritingModule(name_in='write',\n",
    "                           file_name='BPicSNR_injected.fits',\n",
    "                           output_dir=output_dir,\n",
    "                           data_tag='paco_snr',\n",
    "                           data_range=None)\n",
    "\n",
    "pipeline.add_module(module)\n",
    "module = FitsWritingModule(name_in='write_flux',\n",
    "                           file_name='BPicFlux_injected.fits',\n",
    "                           output_dir=output_dir,\n",
    "                           data_tag='paco_flux',\n",
    "                           data_range=None)\n",
    "\n",
    "pipeline.add_module(module)"
   ]
  },
  {
   "cell_type": "code",
   "execution_count": null,
   "metadata": {},
   "outputs": [
    {
     "name": "stdout",
     "output_type": "stream",
     "text": [
      "Validating Pypeline... [DONE]\n",
      "Running FitsReadingModule... [DONE]                      \n",
      "Running FitsReadingModule... [DONE]                      \n",
      "0.104 0.027\n",
      "---------------------- \n",
      "Summary of PACO setup: \n",
      "\n",
      "Image Cube shape = (61, 101, 101)\n",
      "PIXSCALE = 00.027\n",
      "PSF |  Area  |  Rad   |  Width | \n",
      "    |   29   |   03   |  101   | \n",
      "Patch width: 7\n",
      "---------------------- \n",
      "\n",
      "---------------------- \n",
      "Using 1 processor(s).\n",
      "Rescaled Image Cube shape: (61, 100, 100)\n",
      "Rescaled PSF\n",
      "PSF |  Area  |  Rad   |  Width | \n",
      "    |   29   |   03   |  007   | \n",
      "---------------------- \n",
      "\n",
      "Precomputing Statistics...\n"
     ]
    },
    {
     "name": "stderr",
     "output_type": "stream",
     "text": [
      "/home/evert/.local/lib/python3.7/site-packages/pynpoint/util/attributes.py:75: UserWarning: Static attribute INSTRUMENT (=NACO) not found in the FITS header.\n",
      "  warnings.warn(f'Static attribute {attr} (={fitskey}) not found in the FITS '\n",
      "/home/evert/.local/lib/python3.7/site-packages/pynpoint/util/attributes.py:75: UserWarning: Static attribute DIT (=ESO DET DIT) not found in the FITS header.\n",
      "  warnings.warn(f'Static attribute {attr} (={fitskey}) not found in the FITS '\n",
      "/home/evert/.local/lib/python3.7/site-packages/pynpoint/util/attributes.py:75: UserWarning: Static attribute LATITUDE (=ESO TEL GEOLAT) not found in the FITS header.\n",
      "  warnings.warn(f'Static attribute {attr} (={fitskey}) not found in the FITS '\n",
      "/home/evert/.local/lib/python3.7/site-packages/pynpoint/util/attributes.py:75: UserWarning: Static attribute LONGITUDE (=ESO TEL GEOLON) not found in the FITS header.\n",
      "  warnings.warn(f'Static attribute {attr} (={fitskey}) not found in the FITS '\n",
      "/home/evert/.local/lib/python3.7/site-packages/pynpoint/util/attributes.py:123: UserWarning: Non-static attribute EXP_NO (=ESO DET EXP NO) not found in the FITS header.\n",
      "  'FITS header.' % (attr, fitskey))\n",
      "/home/evert/.local/lib/python3.7/site-packages/pynpoint/util/attributes.py:123: UserWarning: Non-static attribute NDIT (=ESO DET NDIT) not found in the FITS header.\n",
      "  'FITS header.' % (attr, fitskey))\n",
      "/home/evert/.local/lib/python3.7/site-packages/pynpoint/util/attributes.py:123: UserWarning: Non-static attribute PARANG_START (=ESO ADA POSANG) not found in the FITS header.\n",
      "  'FITS header.' % (attr, fitskey))\n",
      "/home/evert/.local/lib/python3.7/site-packages/pynpoint/util/attributes.py:123: UserWarning: Non-static attribute PARANG_END (=ESO ADA POSANG END) not found in the FITS header.\n",
      "  'FITS header.' % (attr, fitskey))\n",
      "/home/evert/.local/lib/python3.7/site-packages/pynpoint/util/attributes.py:123: UserWarning: Non-static attribute DITHER_X (=ESO SEQ CUMOFFSETX) not found in the FITS header.\n",
      "  'FITS header.' % (attr, fitskey))\n",
      "/home/evert/.local/lib/python3.7/site-packages/pynpoint/util/attributes.py:123: UserWarning: Non-static attribute DITHER_Y (=ESO SEQ CUMOFFSETY) not found in the FITS header.\n",
      "  'FITS header.' % (attr, fitskey))\n",
      "/home/evert/.local/lib/python3.7/site-packages/pynpoint/util/attributes.py:123: UserWarning: Non-static attribute PUPIL (=ESO ADA PUPILPOS) not found in the FITS header.\n",
      "  'FITS header.' % (attr, fitskey))\n",
      "/home/evert/.local/lib/python3.7/site-packages/pynpoint/util/attributes.py:123: UserWarning: Non-static attribute DATE (=DATE-OBS) not found in the FITS header.\n",
      "  'FITS header.' % (attr, fitskey))\n",
      "/home/evert/.local/lib/python3.7/site-packages/pynpoint/util/attributes.py:123: UserWarning: Non-static attribute RA (=RA) not found in the FITS header.\n",
      "  'FITS header.' % (attr, fitskey))\n",
      "/home/evert/.local/lib/python3.7/site-packages/pynpoint/util/attributes.py:123: UserWarning: Non-static attribute DEC (=DEC) not found in the FITS header.\n",
      "  'FITS header.' % (attr, fitskey))\n",
      "/home/evert/.local/lib/python3.7/site-packages/pynpoint/util/attributes.py:75: UserWarning: Static attribute INSTRUMENT (=NACO) not found in the FITS header.\n",
      "  warnings.warn(f'Static attribute {attr} (={fitskey}) not found in the FITS '\n",
      "/home/evert/.local/lib/python3.7/site-packages/pynpoint/util/attributes.py:75: UserWarning: Static attribute DIT (=ESO DET DIT) not found in the FITS header.\n",
      "  warnings.warn(f'Static attribute {attr} (={fitskey}) not found in the FITS '\n",
      "/home/evert/.local/lib/python3.7/site-packages/pynpoint/util/attributes.py:75: UserWarning: Static attribute LATITUDE (=ESO TEL GEOLAT) not found in the FITS header.\n",
      "  warnings.warn(f'Static attribute {attr} (={fitskey}) not found in the FITS '\n",
      "/home/evert/.local/lib/python3.7/site-packages/pynpoint/util/attributes.py:75: UserWarning: Static attribute LONGITUDE (=ESO TEL GEOLON) not found in the FITS header.\n",
      "  warnings.warn(f'Static attribute {attr} (={fitskey}) not found in the FITS '\n",
      "/home/evert/.local/lib/python3.7/site-packages/pynpoint/util/attributes.py:123: UserWarning: Non-static attribute EXP_NO (=ESO DET EXP NO) not found in the FITS header.\n",
      "  'FITS header.' % (attr, fitskey))\n",
      "/home/evert/.local/lib/python3.7/site-packages/pynpoint/util/attributes.py:123: UserWarning: Non-static attribute NDIT (=ESO DET NDIT) not found in the FITS header.\n",
      "  'FITS header.' % (attr, fitskey))\n",
      "/home/evert/.local/lib/python3.7/site-packages/pynpoint/util/attributes.py:123: UserWarning: Non-static attribute PARANG_START (=ESO ADA POSANG) not found in the FITS header.\n",
      "  'FITS header.' % (attr, fitskey))\n",
      "/home/evert/.local/lib/python3.7/site-packages/pynpoint/util/attributes.py:123: UserWarning: Non-static attribute PARANG_END (=ESO ADA POSANG END) not found in the FITS header.\n",
      "  'FITS header.' % (attr, fitskey))\n",
      "/home/evert/.local/lib/python3.7/site-packages/pynpoint/util/attributes.py:123: UserWarning: Non-static attribute DITHER_X (=ESO SEQ CUMOFFSETX) not found in the FITS header.\n",
      "  'FITS header.' % (attr, fitskey))\n",
      "/home/evert/.local/lib/python3.7/site-packages/pynpoint/util/attributes.py:123: UserWarning: Non-static attribute DITHER_Y (=ESO SEQ CUMOFFSETY) not found in the FITS header.\n",
      "  'FITS header.' % (attr, fitskey))\n",
      "/home/evert/.local/lib/python3.7/site-packages/pynpoint/util/attributes.py:123: UserWarning: Non-static attribute PUPIL (=ESO ADA PUPILPOS) not found in the FITS header.\n",
      "  'FITS header.' % (attr, fitskey))\n",
      "/home/evert/.local/lib/python3.7/site-packages/pynpoint/util/attributes.py:123: UserWarning: Non-static attribute DATE (=DATE-OBS) not found in the FITS header.\n",
      "  'FITS header.' % (attr, fitskey))\n",
      "/home/evert/.local/lib/python3.7/site-packages/pynpoint/util/attributes.py:123: UserWarning: Non-static attribute RA (=RA) not found in the FITS header.\n",
      "  'FITS header.' % (attr, fitskey))\n",
      "/home/evert/.local/lib/python3.7/site-packages/pynpoint/util/attributes.py:123: UserWarning: Non-static attribute DEC (=DEC) not found in the FITS header.\n",
      "  'FITS header.' % (attr, fitskey))\n"
     ]
    },
    {
     "name": "stdout",
     "output_type": "stream",
     "text": [
      "Running PACO...\n"
     ]
    }
   ],
   "source": [
    "pipeline.run()"
   ]
  },
  {
   "cell_type": "code",
   "execution_count": null,
   "metadata": {},
   "outputs": [],
   "source": []
  },
  {
   "cell_type": "code",
   "execution_count": null,
   "metadata": {},
   "outputs": [],
   "source": []
  },
  {
   "cell_type": "code",
   "execution_count": null,
   "metadata": {},
   "outputs": [],
   "source": []
  }
 ],
 "metadata": {
  "kernelspec": {
   "display_name": "Python 3",
   "language": "python",
   "name": "python3"
  },
  "language_info": {
   "codemirror_mode": {
    "name": "ipython",
    "version": 3
   },
   "file_extension": ".py",
   "mimetype": "text/x-python",
   "name": "python",
   "nbconvert_exporter": "python",
   "pygments_lexer": "ipython3",
   "version": "3.7.3"
  }
 },
 "nbformat": 4,
 "nbformat_minor": 2
}
