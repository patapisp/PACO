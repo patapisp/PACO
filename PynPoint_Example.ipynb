{
 "cells": [
  {
   "cell_type": "code",
   "execution_count": 1,
   "metadata": {},
   "outputs": [],
   "source": [
    "import os\n",
    "import numpy as np\n",
    "import matplotlib.pyplot as plt\n",
    "\n",
    "from pynpoint import Pypeline, \\\n",
    "                     Hdf5ReadingModule, \\\n",
    "                     FitsReadingModule, \\\n",
    "                     AngleCalculationModule\\\n",
    "                     TextReading\n",
    "\n",
    "from paco import PACOModule\n",
    "from paco.util.util import *"
   ]
  },
  {
   "cell_type": "code",
   "execution_count": 2,
   "metadata": {},
   "outputs": [],
   "source": [
    "working_dir = os.getcwd()\n",
    "input_dir = working_dir + \"/testData\"\n",
    "output_dir = working_dir + \"/output\"\n",
    "\n",
    "fits_filename = \"stack100_rad1.6as.fits\""
   ]
  },
  {
   "cell_type": "code",
   "execution_count": 3,
   "metadata": {},
   "outputs": [],
   "source": [
    "xx, yy = np.meshgrid(np.arange(-4, 5),np.arange(-4, 5))\n",
    "s = gaussian2d(xx,yy,1, 2)\n",
    "s = s/np.sum(s)\n",
    "angles = np.genfromtxt(input_dir + \"/parang.txt\")\n"
   ]
  },
  {
   "cell_type": "code",
   "execution_count": 4,
   "metadata": {},
   "outputs": [
    {
     "name": "stdout",
     "output_type": "stream",
     "text": [
      "Initiating PynPoint v0.6.2... [DONE]\n"
     ]
    }
   ],
   "source": [
    "pipeline = Pypeline(working_place_in = working_dir,\n",
    "                   input_place_in = input_dir,\n",
    "                   output_place_in = output_dir)\n",
    "\n",
    "module = FitsReadingModule(name_in = \"read\",\n",
    "                           image_tag = \"science\",\n",
    "                           input_dir = input_dir)\n",
    "pipeline.add_module(module)\n",
    "\n",
    "module = ParangReadingModule(name_in = \"parang_reading\",\n",
    "                             file_name = \"parang.txt\",\n",
    "                             input_dir = input_dir)\n",
    "pipeline.add_module(module)\n",
    "\n",
    "module = PACOModule(name_in = \"paco\",\n",
    "                    image_in_tag = \"science\",\n",
    "                    snr_out_tag = \"paco_snr\",\n",
    "                    psf_rad = 0.108,\n",
    "                    scaling = 1,\n",
    "                    algorithm = \"fastpaco\",\n",
    "                    flux_calc = True,\n",
    "                    cpu_limit = 1,\n",
    "                    threshold = 5.0,\n",
    "                    flux_prec = 0.05)\n",
    "pipeline.add_module(module)"
   ]
  },
  {
   "cell_type": "code",
   "execution_count": 5,
   "metadata": {},
   "outputs": [
    {
     "name": "stdout",
     "output_type": "stream",
     "text": [
      "Validating Pypeline... [DONE]\n",
      "Running FitsReadingModule... [DONE]\n",
      "Precomputing Statistics...\n",
      "PSF template shape (9, 9)\n"
     ]
    },
    {
     "name": "stderr",
     "output_type": "stream",
     "text": [
      "/home/evert/.local/share/virtualenvs/PACO-4ds6DMDq/lib/python3.7/site-packages/pynpoint/readwrite/fitsreading.py:173: UserWarning: Static attribute DIT (=ESO DET DIT) not found in the FITS header.\n",
      "  % (item, fitskey))\n",
      "/home/evert/.local/share/virtualenvs/PACO-4ds6DMDq/lib/python3.7/site-packages/pynpoint/readwrite/fitsreading.py:173: UserWarning: Static attribute LATITUDE (=ESO TEL GEOLAT) not found in the FITS header.\n",
      "  % (item, fitskey))\n",
      "/home/evert/.local/share/virtualenvs/PACO-4ds6DMDq/lib/python3.7/site-packages/pynpoint/readwrite/fitsreading.py:173: UserWarning: Static attribute LONGITUDE (=ESO TEL GEOLON) not found in the FITS header.\n",
      "  % (item, fitskey))\n",
      "/home/evert/.local/share/virtualenvs/PACO-4ds6DMDq/lib/python3.7/site-packages/pynpoint/readwrite/fitsreading.py:202: UserWarning: Non-static attribute INSTRUMENT (=NACO) not found in the FITS header.\n",
      "  \"FITS header.\" % (item, fitskey))\n",
      "/home/evert/.local/share/virtualenvs/PACO-4ds6DMDq/lib/python3.7/site-packages/pynpoint/readwrite/fitsreading.py:202: UserWarning: Non-static attribute EXP_NO (=ESO DET EXP NO) not found in the FITS header.\n",
      "  \"FITS header.\" % (item, fitskey))\n",
      "/home/evert/.local/share/virtualenvs/PACO-4ds6DMDq/lib/python3.7/site-packages/pynpoint/readwrite/fitsreading.py:202: UserWarning: Non-static attribute NDIT (=ESO DET NDIT) not found in the FITS header.\n",
      "  \"FITS header.\" % (item, fitskey))\n",
      "/home/evert/.local/share/virtualenvs/PACO-4ds6DMDq/lib/python3.7/site-packages/pynpoint/readwrite/fitsreading.py:202: UserWarning: Non-static attribute PARANG_START (=ESO ADA POSANG) not found in the FITS header.\n",
      "  \"FITS header.\" % (item, fitskey))\n",
      "/home/evert/.local/share/virtualenvs/PACO-4ds6DMDq/lib/python3.7/site-packages/pynpoint/readwrite/fitsreading.py:202: UserWarning: Non-static attribute PARANG_END (=ESO ADA POSANG END) not found in the FITS header.\n",
      "  \"FITS header.\" % (item, fitskey))\n",
      "/home/evert/.local/share/virtualenvs/PACO-4ds6DMDq/lib/python3.7/site-packages/pynpoint/readwrite/fitsreading.py:202: UserWarning: Non-static attribute DITHER_X (=ESO SEQ CUMOFFSETX) not found in the FITS header.\n",
      "  \"FITS header.\" % (item, fitskey))\n",
      "/home/evert/.local/share/virtualenvs/PACO-4ds6DMDq/lib/python3.7/site-packages/pynpoint/readwrite/fitsreading.py:202: UserWarning: Non-static attribute DITHER_Y (=ESO SEQ CUMOFFSETY) not found in the FITS header.\n",
      "  \"FITS header.\" % (item, fitskey))\n",
      "/home/evert/.local/share/virtualenvs/PACO-4ds6DMDq/lib/python3.7/site-packages/pynpoint/readwrite/fitsreading.py:202: UserWarning: Non-static attribute PUPIL (=ESO ADA PUPILPOS) not found in the FITS header.\n",
      "  \"FITS header.\" % (item, fitskey))\n",
      "/home/evert/.local/share/virtualenvs/PACO-4ds6DMDq/lib/python3.7/site-packages/pynpoint/readwrite/fitsreading.py:202: UserWarning: Non-static attribute DATE (=DATE-OBS) not found in the FITS header.\n",
      "  \"FITS header.\" % (item, fitskey))\n",
      "/home/evert/.local/share/virtualenvs/PACO-4ds6DMDq/lib/python3.7/site-packages/pynpoint/readwrite/fitsreading.py:202: UserWarning: Non-static attribute RA (=RA) not found in the FITS header.\n",
      "  \"FITS header.\" % (item, fitskey))\n",
      "/home/evert/.local/share/virtualenvs/PACO-4ds6DMDq/lib/python3.7/site-packages/pynpoint/readwrite/fitsreading.py:202: UserWarning: Non-static attribute DEC (=DEC) not found in the FITS header.\n",
      "  \"FITS header.\" % (item, fitskey))\n",
      "/home/evert/.local/share/virtualenvs/PACO-4ds6DMDq/lib/python3.7/site-packages/pynpoint/readwrite/fitsreading.py:173: UserWarning: Static attribute DIT (=ESO DET DIT) not found in the FITS header.\n",
      "  % (item, fitskey))\n",
      "/home/evert/.local/share/virtualenvs/PACO-4ds6DMDq/lib/python3.7/site-packages/pynpoint/readwrite/fitsreading.py:173: UserWarning: Static attribute LATITUDE (=ESO TEL GEOLAT) not found in the FITS header.\n",
      "  % (item, fitskey))\n",
      "/home/evert/.local/share/virtualenvs/PACO-4ds6DMDq/lib/python3.7/site-packages/pynpoint/readwrite/fitsreading.py:173: UserWarning: Static attribute LONGITUDE (=ESO TEL GEOLON) not found in the FITS header.\n",
      "  % (item, fitskey))\n",
      "/home/evert/.local/share/virtualenvs/PACO-4ds6DMDq/lib/python3.7/site-packages/pynpoint/readwrite/fitsreading.py:202: UserWarning: Non-static attribute INSTRUMENT (=NACO) not found in the FITS header.\n",
      "  \"FITS header.\" % (item, fitskey))\n",
      "/home/evert/.local/share/virtualenvs/PACO-4ds6DMDq/lib/python3.7/site-packages/pynpoint/readwrite/fitsreading.py:202: UserWarning: Non-static attribute EXP_NO (=ESO DET EXP NO) not found in the FITS header.\n",
      "  \"FITS header.\" % (item, fitskey))\n",
      "/home/evert/.local/share/virtualenvs/PACO-4ds6DMDq/lib/python3.7/site-packages/pynpoint/readwrite/fitsreading.py:202: UserWarning: Non-static attribute NDIT (=ESO DET NDIT) not found in the FITS header.\n",
      "  \"FITS header.\" % (item, fitskey))\n",
      "/home/evert/.local/share/virtualenvs/PACO-4ds6DMDq/lib/python3.7/site-packages/pynpoint/readwrite/fitsreading.py:202: UserWarning: Non-static attribute PARANG_START (=ESO ADA POSANG) not found in the FITS header.\n",
      "  \"FITS header.\" % (item, fitskey))\n",
      "/home/evert/.local/share/virtualenvs/PACO-4ds6DMDq/lib/python3.7/site-packages/pynpoint/readwrite/fitsreading.py:202: UserWarning: Non-static attribute PARANG_END (=ESO ADA POSANG END) not found in the FITS header.\n",
      "  \"FITS header.\" % (item, fitskey))\n",
      "/home/evert/.local/share/virtualenvs/PACO-4ds6DMDq/lib/python3.7/site-packages/pynpoint/readwrite/fitsreading.py:202: UserWarning: Non-static attribute DITHER_X (=ESO SEQ CUMOFFSETX) not found in the FITS header.\n",
      "  \"FITS header.\" % (item, fitskey))\n",
      "/home/evert/.local/share/virtualenvs/PACO-4ds6DMDq/lib/python3.7/site-packages/pynpoint/readwrite/fitsreading.py:202: UserWarning: Non-static attribute DITHER_Y (=ESO SEQ CUMOFFSETY) not found in the FITS header.\n",
      "  \"FITS header.\" % (item, fitskey))\n",
      "/home/evert/.local/share/virtualenvs/PACO-4ds6DMDq/lib/python3.7/site-packages/pynpoint/readwrite/fitsreading.py:202: UserWarning: Non-static attribute PUPIL (=ESO ADA PUPILPOS) not found in the FITS header.\n",
      "  \"FITS header.\" % (item, fitskey))\n",
      "/home/evert/.local/share/virtualenvs/PACO-4ds6DMDq/lib/python3.7/site-packages/pynpoint/readwrite/fitsreading.py:202: UserWarning: Non-static attribute DATE (=DATE-OBS) not found in the FITS header.\n",
      "  \"FITS header.\" % (item, fitskey))\n",
      "/home/evert/.local/share/virtualenvs/PACO-4ds6DMDq/lib/python3.7/site-packages/pynpoint/readwrite/fitsreading.py:202: UserWarning: Non-static attribute RA (=RA) not found in the FITS header.\n",
      "  \"FITS header.\" % (item, fitskey))\n",
      "/home/evert/.local/share/virtualenvs/PACO-4ds6DMDq/lib/python3.7/site-packages/pynpoint/readwrite/fitsreading.py:202: UserWarning: Non-static attribute DEC (=DEC) not found in the FITS header.\n",
      "  \"FITS header.\" % (item, fitskey))\n"
     ]
    },
    {
     "name": "stdout",
     "output_type": "stream",
     "text": [
      "Running PACO...\n",
      "0.0%\n",
      "Done\n"
     ]
    },
    {
     "ename": "AttributeError",
     "evalue": "'OutputPort' object has no attribute 'close'",
     "output_type": "error",
     "traceback": [
      "\u001b[0;31m---------------------------------------------------------------------------\u001b[0m",
      "\u001b[0;31mAttributeError\u001b[0m                            Traceback (most recent call last)",
      "\u001b[0;32m<ipython-input-5-c331fb1765cf>\u001b[0m in \u001b[0;36m<module>\u001b[0;34m\u001b[0m\n\u001b[0;32m----> 1\u001b[0;31m \u001b[0mpipeline\u001b[0m\u001b[0;34m.\u001b[0m\u001b[0mrun\u001b[0m\u001b[0;34m(\u001b[0m\u001b[0;34m)\u001b[0m\u001b[0;34m\u001b[0m\u001b[0;34m\u001b[0m\u001b[0m\n\u001b[0m",
      "\u001b[0;32m~/.local/share/virtualenvs/PACO-4ds6DMDq/lib/python3.7/site-packages/pynpoint/core/pypeline.py\u001b[0m in \u001b[0;36mrun\u001b[0;34m(self)\u001b[0m\n\u001b[1;32m    349\u001b[0m \u001b[0;34m\u001b[0m\u001b[0m\n\u001b[1;32m    350\u001b[0m         \u001b[0;32mfor\u001b[0m \u001b[0mkey\u001b[0m \u001b[0;32min\u001b[0m \u001b[0mself\u001b[0m\u001b[0;34m.\u001b[0m\u001b[0m_m_modules\u001b[0m\u001b[0;34m:\u001b[0m\u001b[0;34m\u001b[0m\u001b[0;34m\u001b[0m\u001b[0m\n\u001b[0;32m--> 351\u001b[0;31m             \u001b[0mself\u001b[0m\u001b[0;34m.\u001b[0m\u001b[0m_m_modules\u001b[0m\u001b[0;34m[\u001b[0m\u001b[0mkey\u001b[0m\u001b[0;34m]\u001b[0m\u001b[0;34m.\u001b[0m\u001b[0mrun\u001b[0m\u001b[0;34m(\u001b[0m\u001b[0;34m)\u001b[0m\u001b[0;34m\u001b[0m\u001b[0;34m\u001b[0m\u001b[0m\n\u001b[0m\u001b[1;32m    352\u001b[0m \u001b[0;34m\u001b[0m\u001b[0m\n\u001b[1;32m    353\u001b[0m     \u001b[0;32mdef\u001b[0m \u001b[0mrun_module\u001b[0m\u001b[0;34m(\u001b[0m\u001b[0mself\u001b[0m\u001b[0;34m,\u001b[0m \u001b[0mname\u001b[0m\u001b[0;34m)\u001b[0m\u001b[0;34m:\u001b[0m\u001b[0;34m\u001b[0m\u001b[0;34m\u001b[0m\u001b[0m\n",
      "\u001b[0;32m~/Documents/PACO/PACO/paco/pacoProcessingModule.py\u001b[0m in \u001b[0;36mrun\u001b[0;34m(self)\u001b[0m\n\u001b[1;32m    116\u001b[0m         \u001b[0msnr\u001b[0m \u001b[0;34m=\u001b[0m \u001b[0mb\u001b[0m\u001b[0;34m/\u001b[0m\u001b[0mnp\u001b[0m\u001b[0;34m.\u001b[0m\u001b[0msqrt\u001b[0m\u001b[0;34m(\u001b[0m\u001b[0ma\u001b[0m\u001b[0;34m)\u001b[0m\u001b[0;34m\u001b[0m\u001b[0;34m\u001b[0m\u001b[0m\n\u001b[1;32m    117\u001b[0m         \u001b[0mself\u001b[0m\u001b[0;34m.\u001b[0m\u001b[0mm_snr_out_port\u001b[0m\u001b[0;34m.\u001b[0m\u001b[0mset_all\u001b[0m\u001b[0;34m(\u001b[0m\u001b[0msnr\u001b[0m\u001b[0;34m,\u001b[0m \u001b[0mdata_dim\u001b[0m\u001b[0;34m=\u001b[0m\u001b[0;36m2\u001b[0m\u001b[0;34m)\u001b[0m\u001b[0;34m\u001b[0m\u001b[0;34m\u001b[0m\u001b[0m\n\u001b[0;32m--> 118\u001b[0;31m         \u001b[0mself\u001b[0m\u001b[0;34m.\u001b[0m\u001b[0mm_snr_out_port\u001b[0m\u001b[0;34m.\u001b[0m\u001b[0mclose\u001b[0m\u001b[0;34m(\u001b[0m\u001b[0;34m)\u001b[0m\u001b[0;34m\u001b[0m\u001b[0;34m\u001b[0m\u001b[0m\n\u001b[0m",
      "\u001b[0;31mAttributeError\u001b[0m: 'OutputPort' object has no attribute 'close'"
     ]
    }
   ],
   "source": [
    "pipeline.run()"
   ]
  },
  {
   "cell_type": "code",
   "execution_count": null,
   "metadata": {},
   "outputs": [],
   "source": []
  }
 ],
 "metadata": {
  "kernelspec": {
   "display_name": "Python 3",
   "language": "python",
   "name": "python3"
  },
  "language_info": {
   "codemirror_mode": {
    "name": "ipython",
    "version": 3
   },
   "file_extension": ".py",
   "mimetype": "text/x-python",
   "name": "python",
   "nbconvert_exporter": "python",
   "pygments_lexer": "ipython3",
   "version": "3.7.1"
  }
 },
 "nbformat": 4,
 "nbformat_minor": 2
}
