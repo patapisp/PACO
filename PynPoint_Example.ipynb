{
 "cells": [
  {
   "cell_type": "code",
   "execution_count": 1,
   "metadata": {},
   "outputs": [
    {
     "name": "stderr",
     "output_type": "stream",
     "text": [
      "WARNING: AstropyDeprecationWarning: Composition of model classes will be removed in 4.0 (but composition of model instances is not affected) [astropy.modeling.core]\n"
     ]
    }
   ],
   "source": [
    "import os\n",
    "import numpy as np\n",
    "import matplotlib.pyplot as plt\n",
    "from astropy.io import fits\n",
    "\n",
    "from pynpoint import Pypeline, \\\n",
    "                     Hdf5ReadingModule, \\\n",
    "                     FitsReadingModule, \\\n",
    "                     FitsWritingModule, \\\n",
    "                     AngleCalculationModule#, \\\n",
    "                     #TextReading\n",
    "\n",
    "from paco import PACOModule\n",
    "from paco.util.util import *"
   ]
  },
  {
   "cell_type": "code",
   "execution_count": 2,
   "metadata": {},
   "outputs": [],
   "source": [
    "working_dir = os.getcwd()\n",
    "input_dir = working_dir + \"/testData/vip_datasets/\"\n",
    "output_dir = working_dir + \"/output/\"\n",
    "\n",
    "fits_filename = \"naco_betapic_cube.fits\"\n",
    "psf_filename = \"naco_betapic_psf.fits\"\n",
    "par_filename =\"naco_betapic_pa.dat\"\n",
    "\n",
    "#angles = fits.getdata(input_dir + par_filename).flatten()\n",
    "#ang = open(input_dir + \"naco_betapic_pa.dat\",'w+')\n",
    "#for a in angles:\n",
    "#    ang.writelines(str(a) + '\\n')\n",
    "#ang.close()\n",
    "#par_filename =\"naco_betapic_pa.dat\"\n",
    "angles = np.genfromtxt(input_dir + par_filename)"
   ]
  },
  {
   "cell_type": "code",
   "execution_count": 3,
   "metadata": {},
   "outputs": [],
   "source": [
    "#xx, yy = np.meshgrid(np.arange(-4, 5),np.arange(-4, 5))\n",
    "#s = gaussian2d(xx,yy,1, 2)\n",
    "#s = s/np.sum(s)\n",
    "#angles = np.genfromtxt(input_dir + \"sphere_v471tau_pa.fits\")\n"
   ]
  },
  {
   "cell_type": "code",
   "execution_count": 4,
   "metadata": {},
   "outputs": [
    {
     "name": "stdout",
     "output_type": "stream",
     "text": [
      "Initiating PynPoint v0.8.0... [DONE]\n"
     ]
    }
   ],
   "source": [
    "pipeline = Pypeline(working_place_in = working_dir,\n",
    "                   input_place_in = input_dir,\n",
    "                   output_place_in = output_dir)\n",
    "\n",
    "module = FitsReadingModule(name_in = \"read1\",\n",
    "                           image_tag = \"science\",\n",
    "                           input_dir = input_dir + \"bpic_data/\")\n",
    "pipeline.add_module(module)\n",
    "\n",
    "module = FitsReadingModule(name_in = \"read2\",\n",
    "                          input_dir = input_dir + \"bpic_psf/\",\n",
    "                          image_tag = 'psf')\n",
    "pipeline.add_module(module)\n",
    "\n",
    "\n",
    "# Angles and PSF should be read from Pynpoint database\n",
    "module = PACOModule(name_in = \"paco\",\n",
    "                    image_in_tag = \"science\",\n",
    "                    snr_out_tag = \"paco_snr\",\n",
    "                    angles = angles,\n",
    "                    psf_in_tag = 'psf',\n",
    "                    psf_rad = 0.135,\n",
    "                    scaling = 1,\n",
    "                    algorithm = \"fastpaco\",\n",
    "                    flux_calc = True,\n",
    "                    cpu_limit = 1,\n",
    "                    threshold = 5.0,\n",
    "                    flux_prec = 0.05)\n",
    "pipeline.add_module(module)\n",
    "\n",
    "module = FitsWritingModule(name_in='write',\n",
    "                           file_name='snr.fits',\n",
    "                           output_dir=output_dir,\n",
    "                           data_tag='paco_snr',\n",
    "                           data_range=None)\n",
    "\n",
    "pipeline.add_module(module)"
   ]
  },
  {
   "cell_type": "code",
   "execution_count": 5,
   "metadata": {},
   "outputs": [
    {
     "name": "stdout",
     "output_type": "stream",
     "text": [
      "Validating Pypeline... [DONE]\n",
      "Running FitsReadingModule... [DONE]                      \n",
      "Running FitsReadingModule... [DONE]                      \n",
      "(39, 39)\n",
      "here here here 39\n",
      "(61, 101, 101) 101 101\n",
      "(61, 100, 100) 100 100\n",
      "Precomputing Statistics...\n"
     ]
    },
    {
     "name": "stderr",
     "output_type": "stream",
     "text": [
      "/home/evert/.local/lib/python3.7/site-packages/pynpoint/util/attributes.py:75: UserWarning: Static attribute INSTRUMENT (=NACO) not found in the FITS header.\n",
      "  warnings.warn(f'Static attribute {attr} (={fitskey}) not found in the FITS '\n",
      "/home/evert/.local/lib/python3.7/site-packages/pynpoint/util/attributes.py:75: UserWarning: Static attribute DIT (=ESO DET DIT) not found in the FITS header.\n",
      "  warnings.warn(f'Static attribute {attr} (={fitskey}) not found in the FITS '\n",
      "/home/evert/.local/lib/python3.7/site-packages/pynpoint/util/attributes.py:75: UserWarning: Static attribute LATITUDE (=ESO TEL GEOLAT) not found in the FITS header.\n",
      "  warnings.warn(f'Static attribute {attr} (={fitskey}) not found in the FITS '\n",
      "/home/evert/.local/lib/python3.7/site-packages/pynpoint/util/attributes.py:75: UserWarning: Static attribute LONGITUDE (=ESO TEL GEOLON) not found in the FITS header.\n",
      "  warnings.warn(f'Static attribute {attr} (={fitskey}) not found in the FITS '\n",
      "/home/evert/.local/lib/python3.7/site-packages/pynpoint/util/attributes.py:123: UserWarning: Non-static attribute EXP_NO (=ESO DET EXP NO) not found in the FITS header.\n",
      "  'FITS header.' % (attr, fitskey))\n",
      "/home/evert/.local/lib/python3.7/site-packages/pynpoint/util/attributes.py:123: UserWarning: Non-static attribute NDIT (=ESO DET NDIT) not found in the FITS header.\n",
      "  'FITS header.' % (attr, fitskey))\n",
      "/home/evert/.local/lib/python3.7/site-packages/pynpoint/util/attributes.py:123: UserWarning: Non-static attribute PARANG_START (=ESO ADA POSANG) not found in the FITS header.\n",
      "  'FITS header.' % (attr, fitskey))\n",
      "/home/evert/.local/lib/python3.7/site-packages/pynpoint/util/attributes.py:123: UserWarning: Non-static attribute PARANG_END (=ESO ADA POSANG END) not found in the FITS header.\n",
      "  'FITS header.' % (attr, fitskey))\n",
      "/home/evert/.local/lib/python3.7/site-packages/pynpoint/util/attributes.py:123: UserWarning: Non-static attribute DITHER_X (=ESO SEQ CUMOFFSETX) not found in the FITS header.\n",
      "  'FITS header.' % (attr, fitskey))\n",
      "/home/evert/.local/lib/python3.7/site-packages/pynpoint/util/attributes.py:123: UserWarning: Non-static attribute DITHER_Y (=ESO SEQ CUMOFFSETY) not found in the FITS header.\n",
      "  'FITS header.' % (attr, fitskey))\n",
      "/home/evert/.local/lib/python3.7/site-packages/pynpoint/util/attributes.py:123: UserWarning: Non-static attribute PUPIL (=ESO ADA PUPILPOS) not found in the FITS header.\n",
      "  'FITS header.' % (attr, fitskey))\n",
      "/home/evert/.local/lib/python3.7/site-packages/pynpoint/util/attributes.py:123: UserWarning: Non-static attribute DATE (=DATE-OBS) not found in the FITS header.\n",
      "  'FITS header.' % (attr, fitskey))\n",
      "/home/evert/.local/lib/python3.7/site-packages/pynpoint/util/attributes.py:123: UserWarning: Non-static attribute RA (=RA) not found in the FITS header.\n",
      "  'FITS header.' % (attr, fitskey))\n",
      "/home/evert/.local/lib/python3.7/site-packages/pynpoint/util/attributes.py:123: UserWarning: Non-static attribute DEC (=DEC) not found in the FITS header.\n",
      "  'FITS header.' % (attr, fitskey))\n",
      "/home/evert/.local/lib/python3.7/site-packages/pynpoint/util/attributes.py:75: UserWarning: Static attribute INSTRUMENT (=NACO) not found in the FITS header.\n",
      "  warnings.warn(f'Static attribute {attr} (={fitskey}) not found in the FITS '\n",
      "/home/evert/.local/lib/python3.7/site-packages/pynpoint/util/attributes.py:75: UserWarning: Static attribute DIT (=ESO DET DIT) not found in the FITS header.\n",
      "  warnings.warn(f'Static attribute {attr} (={fitskey}) not found in the FITS '\n",
      "/home/evert/.local/lib/python3.7/site-packages/pynpoint/util/attributes.py:75: UserWarning: Static attribute LATITUDE (=ESO TEL GEOLAT) not found in the FITS header.\n",
      "  warnings.warn(f'Static attribute {attr} (={fitskey}) not found in the FITS '\n",
      "/home/evert/.local/lib/python3.7/site-packages/pynpoint/util/attributes.py:75: UserWarning: Static attribute LONGITUDE (=ESO TEL GEOLON) not found in the FITS header.\n",
      "  warnings.warn(f'Static attribute {attr} (={fitskey}) not found in the FITS '\n",
      "/home/evert/.local/lib/python3.7/site-packages/pynpoint/util/attributes.py:123: UserWarning: Non-static attribute EXP_NO (=ESO DET EXP NO) not found in the FITS header.\n",
      "  'FITS header.' % (attr, fitskey))\n",
      "/home/evert/.local/lib/python3.7/site-packages/pynpoint/util/attributes.py:123: UserWarning: Non-static attribute NDIT (=ESO DET NDIT) not found in the FITS header.\n",
      "  'FITS header.' % (attr, fitskey))\n",
      "/home/evert/.local/lib/python3.7/site-packages/pynpoint/util/attributes.py:123: UserWarning: Non-static attribute PARANG_START (=ESO ADA POSANG) not found in the FITS header.\n",
      "  'FITS header.' % (attr, fitskey))\n",
      "/home/evert/.local/lib/python3.7/site-packages/pynpoint/util/attributes.py:123: UserWarning: Non-static attribute PARANG_END (=ESO ADA POSANG END) not found in the FITS header.\n",
      "  'FITS header.' % (attr, fitskey))\n",
      "/home/evert/.local/lib/python3.7/site-packages/pynpoint/util/attributes.py:123: UserWarning: Non-static attribute DITHER_X (=ESO SEQ CUMOFFSETX) not found in the FITS header.\n",
      "  'FITS header.' % (attr, fitskey))\n",
      "/home/evert/.local/lib/python3.7/site-packages/pynpoint/util/attributes.py:123: UserWarning: Non-static attribute DITHER_Y (=ESO SEQ CUMOFFSETY) not found in the FITS header.\n",
      "  'FITS header.' % (attr, fitskey))\n",
      "/home/evert/.local/lib/python3.7/site-packages/pynpoint/util/attributes.py:123: UserWarning: Non-static attribute PUPIL (=ESO ADA PUPILPOS) not found in the FITS header.\n",
      "  'FITS header.' % (attr, fitskey))\n",
      "/home/evert/.local/lib/python3.7/site-packages/pynpoint/util/attributes.py:123: UserWarning: Non-static attribute DATE (=DATE-OBS) not found in the FITS header.\n",
      "  'FITS header.' % (attr, fitskey))\n",
      "/home/evert/.local/lib/python3.7/site-packages/pynpoint/util/attributes.py:123: UserWarning: Non-static attribute RA (=RA) not found in the FITS header.\n",
      "  'FITS header.' % (attr, fitskey))\n",
      "/home/evert/.local/lib/python3.7/site-packages/pynpoint/util/attributes.py:123: UserWarning: Non-static attribute DEC (=DEC) not found in the FITS header.\n",
      "  'FITS header.' % (attr, fitskey))\n"
     ]
    },
    {
     "name": "stdout",
     "output_type": "stream",
     "text": [
      "Running PACO...\n",
      "Done\n",
      "Computing unbiased flux estimate...\n"
     ]
    },
    {
     "name": "stderr",
     "output_type": "stream",
     "text": [
      "/home/evert/Documents/PACO/paco/processing/paco.py:372: RuntimeWarning: invalid value encountered in greater\n",
      "  diff = (data_max  > threshold)\n"
     ]
    },
    {
     "name": "stdout",
     "output_type": "stream",
     "text": [
      "Running FitsWritingModule... [DONE]\n"
     ]
    },
    {
     "ename": "NameError",
     "evalue": "name 'tb' is not defined",
     "output_type": "error",
     "traceback": [
      "\u001b[0;31m---------------------------------------------------------------------------\u001b[0m",
      "\u001b[0;31mNameError\u001b[0m                                 Traceback (most recent call last)",
      "\u001b[0;32m<ipython-input-5-7e90f9387937>\u001b[0m in \u001b[0;36m<module>\u001b[0;34m\u001b[0m\n\u001b[0;32m----> 1\u001b[0;31m \u001b[0mpipeline\u001b[0m\u001b[0;34m.\u001b[0m\u001b[0mrun\u001b[0m\u001b[0;34m(\u001b[0m\u001b[0;34m)\u001b[0m \u001b[0;34m%\u001b[0m\u001b[0mtb\u001b[0m\u001b[0;34m\u001b[0m\u001b[0;34m\u001b[0m\u001b[0m\n\u001b[0m",
      "\u001b[0;31mNameError\u001b[0m: name 'tb' is not defined"
     ]
    }
   ],
   "source": [
    "pipeline.run()"
   ]
  },
  {
   "cell_type": "code",
   "execution_count": null,
   "metadata": {},
   "outputs": [],
   "source": []
  },
  {
   "cell_type": "code",
   "execution_count": null,
   "metadata": {},
   "outputs": [],
   "source": []
  },
  {
   "cell_type": "code",
   "execution_count": null,
   "metadata": {},
   "outputs": [],
   "source": []
  }
 ],
 "metadata": {
  "kernelspec": {
   "display_name": "Python 3",
   "language": "python",
   "name": "python3"
  },
  "language_info": {
   "codemirror_mode": {
    "name": "ipython",
    "version": 3
   },
   "file_extension": ".py",
   "mimetype": "text/x-python",
   "name": "python",
   "nbconvert_exporter": "python",
   "pygments_lexer": "ipython3",
   "version": "3.7.3"
  }
 },
 "nbformat": 4,
 "nbformat_minor": 2
}
