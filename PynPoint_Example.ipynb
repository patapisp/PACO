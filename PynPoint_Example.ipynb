{
 "cells": [
  {
   "cell_type": "code",
   "execution_count": 1,
   "metadata": {},
   "outputs": [],
   "source": [
    "import os\n",
    "import numpy as np\n",
    "import matplotlib.pyplot as plt\n",
    "\n",
    "from pynpoint import Pypeline, \\\n",
    "                     Hdf5ReadingModule, \\\n",
    "                     FitsReadingModule, \\\n",
    "                     AngleCalculationModule\n",
    "\n",
    "from paco import PACOModule\n",
    "from paco.util.util import *"
   ]
  },
  {
   "cell_type": "code",
   "execution_count": 2,
   "metadata": {},
   "outputs": [],
   "source": [
    "working_dir = os.getcwd()\n",
    "input_dir = working_dir + \"/testData\"\n",
    "output_dir = working_dir + \"/output\"\n",
    "\n",
    "fits_filename = \"stack100_rad1.6as.fits\""
   ]
  },
  {
   "cell_type": "code",
   "execution_count": 3,
   "metadata": {},
   "outputs": [],
   "source": [
    "xx, yy = np.meshgrid(np.arange(-4, 5),np.arange(-4, 5))\n",
    "s = gaussian2d(xx,yy,1, 2)\n",
    "s = s/np.sum(s)\n",
    "\n",
    "angles = np.genfromtxt(input_dir + \"/parang.txt\")"
   ]
  },
  {
   "cell_type": "code",
   "execution_count": null,
   "metadata": {},
   "outputs": [
    {
     "name": "stdout",
     "output_type": "stream",
     "text": [
      "Initiating PynPoint v0.6.2... [DONE]\n"
     ]
    }
   ],
   "source": [
    "pipeline = Pypeline(working_place_in = working_dir,\n",
    "                   input_place_in = input_dir,\n",
    "                   output_place_in = output_dir)\n",
    "\n",
    "module = FitsReadingModule(name_in = \"read\",\n",
    "                           image_tag = \"science\",\n",
    "                           input_dir = input_dir)\n",
    "pipeline.add_module(module)\n",
    "\n",
    "module = PACOModule(name_in = \"paco\",\n",
    "                    image_in_tag = \"science\",\n",
    "                    angles = angles,\n",
    "                    psf_model = psfTemplateModel,\n",
    "                    psf_params = {\"psf_template\":s})\n",
    "pipeline.add_module(module)"
   ]
  },
  {
   "cell_type": "code",
   "execution_count": null,
   "metadata": {},
   "outputs": [
    {
     "name": "stdout",
     "output_type": "stream",
     "text": [
      "Validating Pypeline... [DONE]\n",
      "Running FitsReadingModule... [DONE]\n",
      "Precomputing Statistics...\n",
      "PSF template shape (9, 9)\n"
     ]
    },
    {
     "name": "stderr",
     "output_type": "stream",
     "text": [
      "/home/evert/.local/share/virtualenvs/PACO-4ds6DMDq/lib/python3.7/site-packages/pynpoint/readwrite/fitsreading.py:173: UserWarning: Static attribute DIT (=ESO DET DIT) not found in the FITS header.\n",
      "  % (item, fitskey))\n",
      "/home/evert/.local/share/virtualenvs/PACO-4ds6DMDq/lib/python3.7/site-packages/pynpoint/readwrite/fitsreading.py:173: UserWarning: Static attribute LATITUDE (=ESO TEL GEOLAT) not found in the FITS header.\n",
      "  % (item, fitskey))\n",
      "/home/evert/.local/share/virtualenvs/PACO-4ds6DMDq/lib/python3.7/site-packages/pynpoint/readwrite/fitsreading.py:173: UserWarning: Static attribute LONGITUDE (=ESO TEL GEOLON) not found in the FITS header.\n",
      "  % (item, fitskey))\n",
      "/home/evert/.local/share/virtualenvs/PACO-4ds6DMDq/lib/python3.7/site-packages/pynpoint/readwrite/fitsreading.py:202: UserWarning: Non-static attribute INSTRUMENT (=NACO) not found in the FITS header.\n",
      "  \"FITS header.\" % (item, fitskey))\n",
      "/home/evert/.local/share/virtualenvs/PACO-4ds6DMDq/lib/python3.7/site-packages/pynpoint/readwrite/fitsreading.py:202: UserWarning: Non-static attribute EXP_NO (=ESO DET EXP NO) not found in the FITS header.\n",
      "  \"FITS header.\" % (item, fitskey))\n",
      "/home/evert/.local/share/virtualenvs/PACO-4ds6DMDq/lib/python3.7/site-packages/pynpoint/readwrite/fitsreading.py:202: UserWarning: Non-static attribute NDIT (=ESO DET NDIT) not found in the FITS header.\n",
      "  \"FITS header.\" % (item, fitskey))\n",
      "/home/evert/.local/share/virtualenvs/PACO-4ds6DMDq/lib/python3.7/site-packages/pynpoint/readwrite/fitsreading.py:202: UserWarning: Non-static attribute PARANG_START (=ESO ADA POSANG) not found in the FITS header.\n",
      "  \"FITS header.\" % (item, fitskey))\n",
      "/home/evert/.local/share/virtualenvs/PACO-4ds6DMDq/lib/python3.7/site-packages/pynpoint/readwrite/fitsreading.py:202: UserWarning: Non-static attribute PARANG_END (=ESO ADA POSANG END) not found in the FITS header.\n",
      "  \"FITS header.\" % (item, fitskey))\n",
      "/home/evert/.local/share/virtualenvs/PACO-4ds6DMDq/lib/python3.7/site-packages/pynpoint/readwrite/fitsreading.py:202: UserWarning: Non-static attribute DITHER_X (=ESO SEQ CUMOFFSETX) not found in the FITS header.\n",
      "  \"FITS header.\" % (item, fitskey))\n",
      "/home/evert/.local/share/virtualenvs/PACO-4ds6DMDq/lib/python3.7/site-packages/pynpoint/readwrite/fitsreading.py:202: UserWarning: Non-static attribute DITHER_Y (=ESO SEQ CUMOFFSETY) not found in the FITS header.\n",
      "  \"FITS header.\" % (item, fitskey))\n",
      "/home/evert/.local/share/virtualenvs/PACO-4ds6DMDq/lib/python3.7/site-packages/pynpoint/readwrite/fitsreading.py:202: UserWarning: Non-static attribute PUPIL (=ESO ADA PUPILPOS) not found in the FITS header.\n",
      "  \"FITS header.\" % (item, fitskey))\n",
      "/home/evert/.local/share/virtualenvs/PACO-4ds6DMDq/lib/python3.7/site-packages/pynpoint/readwrite/fitsreading.py:202: UserWarning: Non-static attribute DATE (=DATE-OBS) not found in the FITS header.\n",
      "  \"FITS header.\" % (item, fitskey))\n",
      "/home/evert/.local/share/virtualenvs/PACO-4ds6DMDq/lib/python3.7/site-packages/pynpoint/readwrite/fitsreading.py:202: UserWarning: Non-static attribute RA (=RA) not found in the FITS header.\n",
      "  \"FITS header.\" % (item, fitskey))\n",
      "/home/evert/.local/share/virtualenvs/PACO-4ds6DMDq/lib/python3.7/site-packages/pynpoint/readwrite/fitsreading.py:202: UserWarning: Non-static attribute DEC (=DEC) not found in the FITS header.\n",
      "  \"FITS header.\" % (item, fitskey))\n",
      "/home/evert/.local/share/virtualenvs/PACO-4ds6DMDq/lib/python3.7/site-packages/pynpoint/readwrite/fitsreading.py:173: UserWarning: Static attribute DIT (=ESO DET DIT) not found in the FITS header.\n",
      "  % (item, fitskey))\n",
      "/home/evert/.local/share/virtualenvs/PACO-4ds6DMDq/lib/python3.7/site-packages/pynpoint/readwrite/fitsreading.py:173: UserWarning: Static attribute LATITUDE (=ESO TEL GEOLAT) not found in the FITS header.\n",
      "  % (item, fitskey))\n",
      "/home/evert/.local/share/virtualenvs/PACO-4ds6DMDq/lib/python3.7/site-packages/pynpoint/readwrite/fitsreading.py:173: UserWarning: Static attribute LONGITUDE (=ESO TEL GEOLON) not found in the FITS header.\n",
      "  % (item, fitskey))\n",
      "/home/evert/.local/share/virtualenvs/PACO-4ds6DMDq/lib/python3.7/site-packages/pynpoint/readwrite/fitsreading.py:202: UserWarning: Non-static attribute INSTRUMENT (=NACO) not found in the FITS header.\n",
      "  \"FITS header.\" % (item, fitskey))\n",
      "/home/evert/.local/share/virtualenvs/PACO-4ds6DMDq/lib/python3.7/site-packages/pynpoint/readwrite/fitsreading.py:202: UserWarning: Non-static attribute EXP_NO (=ESO DET EXP NO) not found in the FITS header.\n",
      "  \"FITS header.\" % (item, fitskey))\n",
      "/home/evert/.local/share/virtualenvs/PACO-4ds6DMDq/lib/python3.7/site-packages/pynpoint/readwrite/fitsreading.py:202: UserWarning: Non-static attribute NDIT (=ESO DET NDIT) not found in the FITS header.\n",
      "  \"FITS header.\" % (item, fitskey))\n",
      "/home/evert/.local/share/virtualenvs/PACO-4ds6DMDq/lib/python3.7/site-packages/pynpoint/readwrite/fitsreading.py:202: UserWarning: Non-static attribute PARANG_START (=ESO ADA POSANG) not found in the FITS header.\n",
      "  \"FITS header.\" % (item, fitskey))\n",
      "/home/evert/.local/share/virtualenvs/PACO-4ds6DMDq/lib/python3.7/site-packages/pynpoint/readwrite/fitsreading.py:202: UserWarning: Non-static attribute PARANG_END (=ESO ADA POSANG END) not found in the FITS header.\n",
      "  \"FITS header.\" % (item, fitskey))\n",
      "/home/evert/.local/share/virtualenvs/PACO-4ds6DMDq/lib/python3.7/site-packages/pynpoint/readwrite/fitsreading.py:202: UserWarning: Non-static attribute DITHER_X (=ESO SEQ CUMOFFSETX) not found in the FITS header.\n",
      "  \"FITS header.\" % (item, fitskey))\n",
      "/home/evert/.local/share/virtualenvs/PACO-4ds6DMDq/lib/python3.7/site-packages/pynpoint/readwrite/fitsreading.py:202: UserWarning: Non-static attribute DITHER_Y (=ESO SEQ CUMOFFSETY) not found in the FITS header.\n",
      "  \"FITS header.\" % (item, fitskey))\n",
      "/home/evert/.local/share/virtualenvs/PACO-4ds6DMDq/lib/python3.7/site-packages/pynpoint/readwrite/fitsreading.py:202: UserWarning: Non-static attribute PUPIL (=ESO ADA PUPILPOS) not found in the FITS header.\n",
      "  \"FITS header.\" % (item, fitskey))\n",
      "/home/evert/.local/share/virtualenvs/PACO-4ds6DMDq/lib/python3.7/site-packages/pynpoint/readwrite/fitsreading.py:202: UserWarning: Non-static attribute DATE (=DATE-OBS) not found in the FITS header.\n",
      "  \"FITS header.\" % (item, fitskey))\n",
      "/home/evert/.local/share/virtualenvs/PACO-4ds6DMDq/lib/python3.7/site-packages/pynpoint/readwrite/fitsreading.py:202: UserWarning: Non-static attribute RA (=RA) not found in the FITS header.\n",
      "  \"FITS header.\" % (item, fitskey))\n",
      "/home/evert/.local/share/virtualenvs/PACO-4ds6DMDq/lib/python3.7/site-packages/pynpoint/readwrite/fitsreading.py:202: UserWarning: Non-static attribute DEC (=DEC) not found in the FITS header.\n",
      "  \"FITS header.\" % (item, fitskey))\n"
     ]
    },
    {
     "name": "stdout",
     "output_type": "stream",
     "text": [
      "Running PACO...\n",
      "0.0%\n"
     ]
    }
   ],
   "source": [
    "pipeline.run()"
   ]
  },
  {
   "cell_type": "code",
   "execution_count": null,
   "metadata": {},
   "outputs": [],
   "source": []
  }
 ],
 "metadata": {
  "kernelspec": {
   "display_name": "Python 3",
   "language": "python",
   "name": "python3"
  },
  "language_info": {
   "codemirror_mode": {
    "name": "ipython",
    "version": 3
   },
   "file_extension": ".py",
   "mimetype": "text/x-python",
   "name": "python",
   "nbconvert_exporter": "python",
   "pygments_lexer": "ipython3",
   "version": "3.7.1"
  }
 },
 "nbformat": 4,
 "nbformat_minor": 2
}
