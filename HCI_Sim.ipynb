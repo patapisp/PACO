{
 "cells": [
  {
   "cell_type": "markdown",
   "metadata": {},
   "source": [
    "### Generate simulated HCI images for testing PACO and other algorithms\n",
    "Evert Nasedkin"
   ]
  },
  {
   "cell_type": "code",
   "execution_count": 1,
   "metadata": {},
   "outputs": [],
   "source": [
    "import numpy as np\n",
    "import os\n",
    "from astropy.io import fits\n",
    "import matplotlib.pyplot as plt\n",
    "\n",
    "import hcipy as hci"
   ]
  },
  {
   "cell_type": "markdown",
   "metadata": {},
   "source": [
    "## Simulated coronographic images using hcipy"
   ]
  },
  {
   "cell_type": "code",
   "execution_count": 2,
   "metadata": {},
   "outputs": [],
   "source": [
    "# Telescope and Wavelength parameters\n",
    "D_tel = 6.5 # meter\n",
    "wavelength = 2.5e-6 # meter\n",
    "\n",
    "# Generate pupil and focal plane grids, and the wavefront propogator\n",
    "pupil_grid = hci.make_pupil_grid(1024,D_tel)\n",
    "focal_grid = hci.make_focal_grid(pupil_grid, 4, 8, wavelength=wavelength)\n",
    "prop = hci.FraunhoferPropagator(pupil_grid, focal_grid)\n",
    "\n",
    "# Build the pupil aperture\n",
    "\n",
    "# Circular Aperture\n",
    "#aperture = hci.circular_aperture(D_tel)\n",
    "#aperture = hci.evaluate_supersampled(aperture, pupil_grid, 8)\n",
    "\n",
    "# Magellan Aperture\n",
    "aperture = hci.make_magellan_aperture()\n",
    "\n",
    "# Adaptive Optics\n",
    "F_mla = 0.03\n",
    "N_mla = 8\n",
    "D_mla = 1.0 / N_mla\n",
    "#x = np.arange(-1,1,D_mla)\n",
    "#mla_grid = hci.CartesianGrid(SeparatedCoords((x,x)))\n",
    "#mla_shape = hci.rectangular_aperture(D_mla)\n",
    "#microlens_array = hci.MicroLensArray(pupil_grid, mla_grid, F_mla * D_mla, mla_shape)\n",
    "#sh_prop = hci.FresnelPropagator(pupil_grid, F_mla * D_mla)\n"
   ]
  },
  {
   "cell_type": "code",
   "execution_count": null,
   "metadata": {},
   "outputs": [
    {
     "name": "stderr",
     "output_type": "stream",
     "text": [
      "/home/evert/.local/lib/python3.7/site-packages/hcipy/fourier/fast_fourier_transform.py:70: FutureWarning: Using a non-tuple sequence for multidimensional indexing is deprecated; use `arr[tuple(seq)]` instead of `arr[seq]`. In the future this will be interpreted as an array index, `arr[np.array(seq)]`, which will result either in an error or a different result.\n",
      "  f[self.cutout_input] = (field.ravel() * self.weights * self.shift_output).reshape(self.shape_in)\n",
      "/home/evert/.local/lib/python3.7/site-packages/hcipy/fourier/fast_fourier_transform.py:72: FutureWarning: Using a non-tuple sequence for multidimensional indexing is deprecated; use `arr[tuple(seq)]` instead of `arr[seq]`. In the future this will be interpreted as an array index, `arr[np.array(seq)]`, which will result either in an error or a different result.\n",
      "  res = res[self.cutout_output].ravel() * self.shift_input\n",
      "/home/evert/.local/lib/python3.7/site-packages/hcipy/fourier/fast_fourier_transform.py:81: FutureWarning: Using a non-tuple sequence for multidimensional indexing is deprecated; use `arr[tuple(seq)]` instead of `arr[seq]`. In the future this will be interpreted as an array index, `arr[np.array(seq)]`, which will result either in an error or a different result.\n",
      "  f[self.cutout_output] = (field.ravel() / self.shift_input).reshape(self.shape_out)\n",
      "/home/evert/.local/lib/python3.7/site-packages/hcipy/fourier/fast_fourier_transform.py:83: FutureWarning: Using a non-tuple sequence for multidimensional indexing is deprecated; use `arr[tuple(seq)]` instead of `arr[seq]`. In the future this will be interpreted as an array index, `arr[np.array(seq)]`, which will result either in an error or a different result.\n",
      "  res = res[self.cutout_input].ravel() / self.weights / self.shift_output\n"
     ]
    }
   ],
   "source": [
    "im_stack = []\n",
    "psfs = []\n",
    "nFrames = 150\n",
    "tInt = 1.5\n",
    "# Generate the coronagraph\n",
    "coro = hci.VortexCoronagraph(pupil_grid, charge=2, levels=8)\n",
    "lyot_stop = hci.Apodizer(hci.circular_aperture(0.99*D_tel)(pupil_grid))\n",
    "\n",
    "for i in range(nFrames):\n",
    "    # Generate a wavefront\n",
    "    #wf = hci.Wavefront(aperture,wavelength)\n",
    "    wf = hci.Wavefront(aperture(pupil_grid),wavelength)\n",
    "    wf.total_power = 100000\n",
    "\n",
    "    # Atmospheric Distortion Layers\n",
    "    fried_parameter = 5.5 # meter\n",
    "    outer_scale = 20 # meter\n",
    "    velocity = 1 # meter/sec\n",
    "\n",
    "    # Single Layer\n",
    "    Cn_squared = hci.Cn_squared_from_fried_parameter(fried_parameter, wavelength)\n",
    "    layer = hci.InfiniteAtmosphericLayer(pupil_grid, Cn_squared, outer_scale, velocity)\n",
    "    layer.t = i * tInt\n",
    "    wf2 = layer(wf)\n",
    "\n",
    "    # Multi Layer\n",
    "    #spectral_noise_factory = hci.SpectralNoiseFactoryFFT(kolmogorov_psd, pupil_grid, 8)\n",
    "    #turbulence_layers = hci.make_standard_multilayer_atmosphere(fried_parameter, wavelength=wavelength)\n",
    "    #atmospheric_model = hci.AtmosphericModel(spectral_noise_factory, turbulence_layers)\n",
    "    #wf2 = atmospheric_model(wf)\n",
    "    #sci_img = prop(wf2).intensity\n",
    "    #wf3 = microlens_array(wf2)\n",
    "    #wfs_img = sh_prop(wf3).intensity\n",
    "\n",
    "    # Generate surface aberration\n",
    "    aberration = hci.SurfaceAberration(pupil_grid, 0.25*wavelength, D_tel)\n",
    "    ab_wf = aberration(wf2)\n",
    "    \n",
    "    # Lyot Plane\n",
    "    lyot_wf = coro(ab_wf)\n",
    "\n",
    "    # Add a Lyot Stop\n",
    "    lyot_img = prop(lyot_stop(lyot_wf))\n",
    "    img = lyot_img\n",
    "    img_ref = prop(wf)\n",
    "    # Build a Detector\n",
    "    flat_field = 0.1\n",
    "    dark = 10\n",
    "    detector = hci.NoisyDetector(focal_grid, dark_current_rate=dark, flat_field=flat_field)\n",
    "    detector.integrate(lyot_img, tInt)\n",
    "    image = detector.read_out()\n",
    "    im_stack.append(image)\n",
    "    img = prop(aberration(wf))\n",
    "    detector.integrate(img, 1.5)\n",
    "    psf = detector.read_out()\n",
    "    psfs.append(psf)"
   ]
  },
  {
   "cell_type": "code",
   "execution_count": null,
   "metadata": {
    "scrolled": true
   },
   "outputs": [],
   "source": [
    "# Show the wavefront\n",
    "#hci.imshow_field(np.log10(img.intensity / img_ref.intensity.max()), vmin=-4)\n",
    "plt.figure(figsize = (6,5))\n",
    "hci.imshow_field(im_stack[0], vmax=im_stack[0].max(), vmin=0)\n",
    "\n",
    "plt.colorbar()\n",
    "plt.show()"
   ]
  },
  {
   "cell_type": "code",
   "execution_count": null,
   "metadata": {},
   "outputs": [],
   "source": [
    "psfs = np.asarray(psfs).reshape((nFrames,64,64))\n",
    "print(psfs.shape)\n",
    "plt.figure(figsize = (6,5))\n",
    "plt.imshow(np.median(psfs,axis = 0)/np.sum(np.median(psfs,axis = 0)))\n",
    "plt.colorbar()\n",
    "plt.show()"
   ]
  },
  {
   "cell_type": "code",
   "execution_count": null,
   "metadata": {},
   "outputs": [],
   "source": [
    "hdu = fits.PrimaryHDU(np.asarray(im_stack).reshape((nFrames,64,64)))\n",
    "hdu.writeto(\"testData/SimImages.fits\")"
   ]
  },
  {
   "cell_type": "code",
   "execution_count": null,
   "metadata": {},
   "outputs": [],
   "source": [
    "hdu2 = fits.PrimaryHDU(np.median(psfs,axis = 0)/np.sum(np.median(psfs,axis = 0)))\n",
    "hdu2.writeto(\"testData/SimImagesPSF.fits\")"
   ]
  },
  {
   "cell_type": "markdown",
   "metadata": {},
   "source": [
    "## Exoplanet injection"
   ]
  },
  {
   "cell_type": "code",
   "execution_count": 357,
   "metadata": {},
   "outputs": [],
   "source": [
    "from pynpoint.processing.fluxposition import FakePlanetModule\n",
    "from pynpoint import Pypeline, \\\n",
    "                     Hdf5ReadingModule, \\\n",
    "                     FitsReadingModule, \\\n",
    "                     AngleCalculationModule, \\\n",
    "                     ParangReadingModule\n",
    "from paco.util.util import *\n",
    "from astropy.io import fits"
   ]
  },
  {
   "cell_type": "code",
   "execution_count": 374,
   "metadata": {},
   "outputs": [],
   "source": [
    "working_dir = \"/home/evert/Documents/PACO/\"\n",
    "input_dir = working_dir + \"testData/vip_datasets/\"\n",
    "output_dir = working_dir + \"testData/\"\n",
    "data_filename = \"bpic_data/naco_betapic_cube.fits\"\n",
    "psf_filename = \"bpic_psf/naco_betapic_psf.fits\"\n",
    "parang_filename = \"naco_betapic_pa.dat\"\n",
    "out_filename = \"naco_betapic_injected.fits\"\n",
    "\n",
    "#xx, yy = np.meshgrid(np.arange(-50, 51),np.arange(-50, 51))\n",
    "#s = gaussian2d(xx,yy,20, 2)\n",
    "#s = np.array([s/np.sum(s)])\n",
    "#hdu = fits.PrimaryHDU(s)\n",
    "#hdu.writeto(input_dir + \"gausspsf/gausspsf.fits\")"
   ]
  },
  {
   "cell_type": "code",
   "execution_count": 375,
   "metadata": {},
   "outputs": [
    {
     "name": "stdout",
     "output_type": "stream",
     "text": [
      "Initiating PynPoint v0.8.0... [DONE]\n"
     ]
    }
   ],
   "source": [
    "pipeline = Pypeline(working_place_in = working_dir,\n",
    "                    input_place_in = input_dir,\n",
    "                    output_place_in = output_dir)"
   ]
  },
  {
   "cell_type": "code",
   "execution_count": 376,
   "metadata": {},
   "outputs": [],
   "source": [
    "module = FitsReadingModule(name_in = \"read1\",\n",
    "                          input_dir = input_dir + \"bpic_data/\",\n",
    "                          image_tag = 'science0',\n",
    "                          overwrite = True)\n",
    "pipeline.add_module(module)"
   ]
  },
  {
   "cell_type": "code",
   "execution_count": 377,
   "metadata": {},
   "outputs": [],
   "source": [
    "module = FitsReadingModule(name_in = psf_filename,\n",
    "                          input_dir = input_dir + \"gausspsf/\",\n",
    "                          image_tag = 'psf',\n",
    "                          overwrite = True)\n",
    "pipeline.add_module(module)"
   ]
  },
  {
   "cell_type": "code",
   "execution_count": 378,
   "metadata": {},
   "outputs": [],
   "source": [
    "#module = AngleCalculationModule(name_in='angle',\n",
    "#                                data_tag='last',\n",
    "#                                instrument='NACO')\n",
    "\n",
    "#pipeline.add_module(module)\n",
    "\n",
    "# OR\n",
    "\n",
    "module = ParangReadingModule(name_in = \"parang_reading\",\n",
    "                             data_tag = 'science0',\n",
    "                             file_name = parang_filename,\n",
    "                             input_dir = input_dir)\n",
    "pipeline.add_module(module)"
   ]
  },
  {
   "cell_type": "code",
   "execution_count": 379,
   "metadata": {},
   "outputs": [],
   "source": [
    "# Repeat for each planet to be injected\n",
    "#posn = (1.4,30.0)  # (sep angle [as], posn angle [deg])\n",
    "#magnitude = 2.0    # Magnitude relative to star\n",
    "\n",
    "#module = FakePlanetModule(name_in = 'fake_planet',\n",
    "#                          image_in_tag = 'science',\n",
    "#                          psf_in_tag = 'psf',\n",
    "#                          image_out_tag = 'injected',\n",
    "#                          position = posn,\n",
    "#                          magnitude = magnitude)\n",
    "#pipeline.add_module(module)\n",
    "\n",
    "############\n",
    "posn_list = [(0.1,30),(0.3,30),(0.5,30),(0.7,30),(0.2,90),(0.5,90),(0.8,90),(0.3,180),(0.5,180),(0.5,180)]\n",
    "scale =     [1, 0.8, 0.6, 0.4,                     0.7, 0.5, 0.3,              0.3, 0.2, 0.1]\n",
    "count = 0\n",
    "for i in range(len(posn_list)):\n",
    "    module = FakePlanetModule(name_in = 'fake_planet_'+ str(i),\n",
    "                          image_in_tag = 'science'+str(i),\n",
    "                          psf_in_tag = 'psf',\n",
    "                          image_out_tag = 'science'+str(i+1),\n",
    "                          position = posn_list[i],\n",
    "                          magnitude = 0.0,\n",
    "                          psf_scaling = scale[i])\n",
    "    count = i+1\n",
    "    pipeline.add_module(module)"
   ]
  },
  {
   "cell_type": "code",
   "execution_count": 380,
   "metadata": {},
   "outputs": [],
   "source": [
    "from pynpoint import FitsWritingModule\n",
    "module = FitsWritingModule(name_in='write',\n",
    "                           file_name=out_filename,\n",
    "                           output_dir=output_dir,\n",
    "                           data_tag='science'+str(count),\n",
    "                           data_range=None)\n",
    "\n",
    "pipeline.add_module(module)"
   ]
  },
  {
   "cell_type": "code",
   "execution_count": 381,
   "metadata": {},
   "outputs": [
    {
     "name": "stdout",
     "output_type": "stream",
     "text": [
      "Validating Pypeline... [DONE]\n",
      "Running FitsReadingModule... [DONE]                      \n",
      "Running FitsReadingModule... [DONE]                      \n",
      "Running ParangReadingModule... [DONE]\n",
      "Running FakePlanetModule... [DONE]                      \n",
      "                                                        \r"
     ]
    },
    {
     "name": "stderr",
     "output_type": "stream",
     "text": [
      "/home/evert/.local/lib/python3.7/site-packages/pynpoint/util/attributes.py:75: UserWarning: Static attribute INSTRUMENT (=NACO) not found in the FITS header.\n",
      "  warnings.warn(f'Static attribute {attr} (={fitskey}) not found in the FITS '\n",
      "/home/evert/.local/lib/python3.7/site-packages/pynpoint/util/attributes.py:75: UserWarning: Static attribute DIT (=ESO DET DIT) not found in the FITS header.\n",
      "  warnings.warn(f'Static attribute {attr} (={fitskey}) not found in the FITS '\n",
      "/home/evert/.local/lib/python3.7/site-packages/pynpoint/util/attributes.py:75: UserWarning: Static attribute LATITUDE (=ESO TEL GEOLAT) not found in the FITS header.\n",
      "  warnings.warn(f'Static attribute {attr} (={fitskey}) not found in the FITS '\n",
      "/home/evert/.local/lib/python3.7/site-packages/pynpoint/util/attributes.py:75: UserWarning: Static attribute LONGITUDE (=ESO TEL GEOLON) not found in the FITS header.\n",
      "  warnings.warn(f'Static attribute {attr} (={fitskey}) not found in the FITS '\n",
      "/home/evert/.local/lib/python3.7/site-packages/pynpoint/util/attributes.py:123: UserWarning: Non-static attribute EXP_NO (=ESO DET EXP NO) not found in the FITS header.\n",
      "  'FITS header.' % (attr, fitskey))\n",
      "/home/evert/.local/lib/python3.7/site-packages/pynpoint/util/attributes.py:123: UserWarning: Non-static attribute NDIT (=ESO DET NDIT) not found in the FITS header.\n",
      "  'FITS header.' % (attr, fitskey))\n",
      "/home/evert/.local/lib/python3.7/site-packages/pynpoint/util/attributes.py:123: UserWarning: Non-static attribute PARANG_START (=ESO ADA POSANG) not found in the FITS header.\n",
      "  'FITS header.' % (attr, fitskey))\n",
      "/home/evert/.local/lib/python3.7/site-packages/pynpoint/util/attributes.py:123: UserWarning: Non-static attribute PARANG_END (=ESO ADA POSANG END) not found in the FITS header.\n",
      "  'FITS header.' % (attr, fitskey))\n",
      "/home/evert/.local/lib/python3.7/site-packages/pynpoint/util/attributes.py:123: UserWarning: Non-static attribute DITHER_X (=ESO SEQ CUMOFFSETX) not found in the FITS header.\n",
      "  'FITS header.' % (attr, fitskey))\n",
      "/home/evert/.local/lib/python3.7/site-packages/pynpoint/util/attributes.py:123: UserWarning: Non-static attribute DITHER_Y (=ESO SEQ CUMOFFSETY) not found in the FITS header.\n",
      "  'FITS header.' % (attr, fitskey))\n",
      "/home/evert/.local/lib/python3.7/site-packages/pynpoint/util/attributes.py:123: UserWarning: Non-static attribute PUPIL (=ESO ADA PUPILPOS) not found in the FITS header.\n",
      "  'FITS header.' % (attr, fitskey))\n",
      "/home/evert/.local/lib/python3.7/site-packages/pynpoint/util/attributes.py:123: UserWarning: Non-static attribute DATE (=DATE-OBS) not found in the FITS header.\n",
      "  'FITS header.' % (attr, fitskey))\n",
      "/home/evert/.local/lib/python3.7/site-packages/pynpoint/util/attributes.py:123: UserWarning: Non-static attribute RA (=RA) not found in the FITS header.\n",
      "  'FITS header.' % (attr, fitskey))\n",
      "/home/evert/.local/lib/python3.7/site-packages/pynpoint/util/attributes.py:123: UserWarning: Non-static attribute DEC (=DEC) not found in the FITS header.\n",
      "  'FITS header.' % (attr, fitskey))\n",
      "/home/evert/.local/lib/python3.7/site-packages/pynpoint/util/attributes.py:75: UserWarning: Static attribute INSTRUMENT (=NACO) not found in the FITS header.\n",
      "  warnings.warn(f'Static attribute {attr} (={fitskey}) not found in the FITS '\n",
      "/home/evert/.local/lib/python3.7/site-packages/pynpoint/util/attributes.py:75: UserWarning: Static attribute DIT (=ESO DET DIT) not found in the FITS header.\n",
      "  warnings.warn(f'Static attribute {attr} (={fitskey}) not found in the FITS '\n",
      "/home/evert/.local/lib/python3.7/site-packages/pynpoint/util/attributes.py:75: UserWarning: Static attribute LATITUDE (=ESO TEL GEOLAT) not found in the FITS header.\n",
      "  warnings.warn(f'Static attribute {attr} (={fitskey}) not found in the FITS '\n",
      "/home/evert/.local/lib/python3.7/site-packages/pynpoint/util/attributes.py:75: UserWarning: Static attribute LONGITUDE (=ESO TEL GEOLON) not found in the FITS header.\n",
      "  warnings.warn(f'Static attribute {attr} (={fitskey}) not found in the FITS '\n",
      "/home/evert/.local/lib/python3.7/site-packages/pynpoint/util/attributes.py:123: UserWarning: Non-static attribute EXP_NO (=ESO DET EXP NO) not found in the FITS header.\n",
      "  'FITS header.' % (attr, fitskey))\n",
      "/home/evert/.local/lib/python3.7/site-packages/pynpoint/util/attributes.py:123: UserWarning: Non-static attribute NDIT (=ESO DET NDIT) not found in the FITS header.\n",
      "  'FITS header.' % (attr, fitskey))\n",
      "/home/evert/.local/lib/python3.7/site-packages/pynpoint/util/attributes.py:123: UserWarning: Non-static attribute PARANG_START (=ESO ADA POSANG) not found in the FITS header.\n",
      "  'FITS header.' % (attr, fitskey))\n",
      "/home/evert/.local/lib/python3.7/site-packages/pynpoint/util/attributes.py:123: UserWarning: Non-static attribute PARANG_END (=ESO ADA POSANG END) not found in the FITS header.\n",
      "  'FITS header.' % (attr, fitskey))\n",
      "/home/evert/.local/lib/python3.7/site-packages/pynpoint/util/attributes.py:123: UserWarning: Non-static attribute DITHER_X (=ESO SEQ CUMOFFSETX) not found in the FITS header.\n",
      "  'FITS header.' % (attr, fitskey))\n",
      "/home/evert/.local/lib/python3.7/site-packages/pynpoint/util/attributes.py:123: UserWarning: Non-static attribute DITHER_Y (=ESO SEQ CUMOFFSETY) not found in the FITS header.\n",
      "  'FITS header.' % (attr, fitskey))\n",
      "/home/evert/.local/lib/python3.7/site-packages/pynpoint/util/attributes.py:123: UserWarning: Non-static attribute PUPIL (=ESO ADA PUPILPOS) not found in the FITS header.\n",
      "  'FITS header.' % (attr, fitskey))\n",
      "/home/evert/.local/lib/python3.7/site-packages/pynpoint/util/attributes.py:123: UserWarning: Non-static attribute DATE (=DATE-OBS) not found in the FITS header.\n",
      "  'FITS header.' % (attr, fitskey))\n",
      "/home/evert/.local/lib/python3.7/site-packages/pynpoint/util/attributes.py:123: UserWarning: Non-static attribute RA (=RA) not found in the FITS header.\n",
      "  'FITS header.' % (attr, fitskey))\n",
      "/home/evert/.local/lib/python3.7/site-packages/pynpoint/util/attributes.py:123: UserWarning: Non-static attribute DEC (=DEC) not found in the FITS header.\n",
      "  'FITS header.' % (attr, fitskey))\n"
     ]
    },
    {
     "name": "stdout",
     "output_type": "stream",
     "text": [
      "Running FakePlanetModule... [DONE]\n",
      "Running FakePlanetModule... [DONE]                      \n",
      "Running FakePlanetModule... [DONE]                      \n",
      "Running FakePlanetModule... [DONE]                      \n",
      "Running FakePlanetModule... [DONE]                      \n",
      "Running FakePlanetModule... [DONE]                      \n",
      "Running FakePlanetModule... [DONE]                      \n",
      "Running FakePlanetModule... [DONE]                      \n",
      "Running FakePlanetModule... [DONE]                      \n",
      "Running FitsWritingModule... [DONE]\n"
     ]
    }
   ],
   "source": [
    "pipeline.run()"
   ]
  },
  {
   "cell_type": "code",
   "execution_count": null,
   "metadata": {},
   "outputs": [],
   "source": []
  },
  {
   "cell_type": "code",
   "execution_count": null,
   "metadata": {},
   "outputs": [],
   "source": []
  },
  {
   "cell_type": "code",
   "execution_count": null,
   "metadata": {},
   "outputs": [],
   "source": []
  },
  {
   "cell_type": "code",
   "execution_count": null,
   "metadata": {},
   "outputs": [],
   "source": []
  }
 ],
 "metadata": {
  "kernelspec": {
   "display_name": "Python 3",
   "language": "python",
   "name": "python3"
  },
  "language_info": {
   "codemirror_mode": {
    "name": "ipython",
    "version": 3
   },
   "file_extension": ".py",
   "mimetype": "text/x-python",
   "name": "python",
   "nbconvert_exporter": "python",
   "pygments_lexer": "ipython3",
   "version": "3.7.3"
  }
 },
 "nbformat": 4,
 "nbformat_minor": 2
}
