{
 "cells": [
  {
   "cell_type": "markdown",
   "metadata": {},
   "source": [
    "### Generate simulated HCI images for testing PACO and other algorithms\n",
    "Evert Nasedkin"
   ]
  },
  {
   "cell_type": "code",
   "execution_count": 1,
   "metadata": {},
   "outputs": [
    {
     "name": "stderr",
     "output_type": "stream",
     "text": [
      "WARNING: AstropyDeprecationWarning: Composition of model classes will be removed in 4.0 (but composition of model instances is not affected) [astropy.modeling.core]\n"
     ]
    }
   ],
   "source": [
    "import numpy as np\n",
    "import os\n",
    "from astropy.io import fits\n",
    "import matplotlib.pyplot as plt\n",
    "\n",
    "import hcipy as hci"
   ]
  },
  {
   "cell_type": "markdown",
   "metadata": {},
   "source": [
    "## Simulated coronographic images using hcipy"
   ]
  },
  {
   "cell_type": "code",
   "execution_count": 2,
   "metadata": {},
   "outputs": [],
   "source": [
    "# Telescope and Wavelength parameters\n",
    "D_tel = 6.5 # meter\n",
    "wavelength = 2.5e-6 # meter\n",
    "\n",
    "# Generate pupil and focal plane grids, and the wavefront propogator\n",
    "pupil_grid = hci.make_pupil_grid(1024,D_tel)\n",
    "focal_grid = hci.make_focal_grid(pupil_grid, 4, 8, wavelength=wavelength)\n",
    "prop = hci.FraunhoferPropagator(pupil_grid, focal_grid)\n",
    "\n",
    "# Build the pupil aperture\n",
    "\n",
    "# Circular Aperture\n",
    "#aperture = hci.circular_aperture(D_tel)\n",
    "#aperture = hci.evaluate_supersampled(aperture, pupil_grid, 8)\n",
    "\n",
    "# Magellan Aperture\n",
    "aperture = hci.make_magellan_aperture()\n",
    "\n",
    "# Adaptive Optics\n",
    "F_mla = 0.03\n",
    "N_mla = 8\n",
    "D_mla = 1.0 / N_mla\n",
    "#x = np.arange(-1,1,D_mla)\n",
    "#mla_grid = hci.CartesianGrid(SeparatedCoords((x,x)))\n",
    "#mla_shape = hci.rectangular_aperture(D_mla)\n",
    "#microlens_array = hci.MicroLensArray(pupil_grid, mla_grid, F_mla * D_mla, mla_shape)\n",
    "#sh_prop = hci.FresnelPropagator(pupil_grid, F_mla * D_mla)\n"
   ]
  },
  {
   "cell_type": "code",
   "execution_count": null,
   "metadata": {},
   "outputs": [
    {
     "name": "stderr",
     "output_type": "stream",
     "text": [
      "/home/evert/.local/lib/python3.7/site-packages/hcipy/fourier/fast_fourier_transform.py:70: FutureWarning: Using a non-tuple sequence for multidimensional indexing is deprecated; use `arr[tuple(seq)]` instead of `arr[seq]`. In the future this will be interpreted as an array index, `arr[np.array(seq)]`, which will result either in an error or a different result.\n",
      "  f[self.cutout_input] = (field.ravel() * self.weights * self.shift_output).reshape(self.shape_in)\n",
      "/home/evert/.local/lib/python3.7/site-packages/hcipy/fourier/fast_fourier_transform.py:72: FutureWarning: Using a non-tuple sequence for multidimensional indexing is deprecated; use `arr[tuple(seq)]` instead of `arr[seq]`. In the future this will be interpreted as an array index, `arr[np.array(seq)]`, which will result either in an error or a different result.\n",
      "  res = res[self.cutout_output].ravel() * self.shift_input\n",
      "/home/evert/.local/lib/python3.7/site-packages/hcipy/fourier/fast_fourier_transform.py:81: FutureWarning: Using a non-tuple sequence for multidimensional indexing is deprecated; use `arr[tuple(seq)]` instead of `arr[seq]`. In the future this will be interpreted as an array index, `arr[np.array(seq)]`, which will result either in an error or a different result.\n",
      "  f[self.cutout_output] = (field.ravel() / self.shift_input).reshape(self.shape_out)\n",
      "/home/evert/.local/lib/python3.7/site-packages/hcipy/fourier/fast_fourier_transform.py:83: FutureWarning: Using a non-tuple sequence for multidimensional indexing is deprecated; use `arr[tuple(seq)]` instead of `arr[seq]`. In the future this will be interpreted as an array index, `arr[np.array(seq)]`, which will result either in an error or a different result.\n",
      "  res = res[self.cutout_input].ravel() / self.weights / self.shift_output\n"
     ]
    }
   ],
   "source": [
    "im_stack = []\n",
    "psfs = []\n",
    "nFrames = 150\n",
    "tInt = 1.5\n",
    "# Generate the coronagraph\n",
    "coro = hci.VortexCoronagraph(pupil_grid, charge=2, levels=8)\n",
    "lyot_stop = hci.Apodizer(hci.circular_aperture(0.99*D_tel)(pupil_grid))\n",
    "\n",
    "for i in range(nFrames):\n",
    "    # Generate a wavefront\n",
    "    #wf = hci.Wavefront(aperture,wavelength)\n",
    "    wf = hci.Wavefront(aperture(pupil_grid),wavelength)\n",
    "    wf.total_power = 100000\n",
    "\n",
    "    # Atmospheric Distortion Layers\n",
    "    fried_parameter = 5.5 # meter\n",
    "    outer_scale = 20 # meter\n",
    "    velocity = 1 # meter/sec\n",
    "\n",
    "    # Single Layer\n",
    "    Cn_squared = hci.Cn_squared_from_fried_parameter(fried_parameter, wavelength)\n",
    "    layer = hci.InfiniteAtmosphericLayer(pupil_grid, Cn_squared, outer_scale, velocity)\n",
    "    layer.t = i * tInt\n",
    "    wf2 = layer(wf)\n",
    "\n",
    "    # Multi Layer\n",
    "    #spectral_noise_factory = hci.SpectralNoiseFactoryFFT(kolmogorov_psd, pupil_grid, 8)\n",
    "    #turbulence_layers = hci.make_standard_multilayer_atmosphere(fried_parameter, wavelength=wavelength)\n",
    "    #atmospheric_model = hci.AtmosphericModel(spectral_noise_factory, turbulence_layers)\n",
    "    #wf2 = atmospheric_model(wf)\n",
    "    #sci_img = prop(wf2).intensity\n",
    "    #wf3 = microlens_array(wf2)\n",
    "    #wfs_img = sh_prop(wf3).intensity\n",
    "\n",
    "    # Generate surface aberration\n",
    "    aberration = hci.SurfaceAberration(pupil_grid, 0.25*wavelength, D_tel)\n",
    "    ab_wf = aberration(wf2)\n",
    "    \n",
    "    # Lyot Plane\n",
    "    lyot_wf = coro(ab_wf)\n",
    "\n",
    "    # Add a Lyot Stop\n",
    "    lyot_img = prop(lyot_stop(lyot_wf))\n",
    "    img = lyot_img\n",
    "    img_ref = prop(wf)\n",
    "    # Build a Detector\n",
    "    flat_field = 0.1\n",
    "    dark = 10\n",
    "    detector = hci.NoisyDetector(focal_grid, dark_current_rate=dark, flat_field=flat_field)\n",
    "    detector.integrate(lyot_img, tInt)\n",
    "    image = detector.read_out()\n",
    "    im_stack.append(image)\n",
    "    img = prop(aberration(wf))\n",
    "    detector.integrate(img, 1.5)\n",
    "    psf = detector.read_out()\n",
    "    psfs.append(psf)"
   ]
  },
  {
   "cell_type": "code",
   "execution_count": null,
   "metadata": {
    "scrolled": true
   },
   "outputs": [],
   "source": [
    "# Show the wavefront\n",
    "#hci.imshow_field(np.log10(img.intensity / img_ref.intensity.max()), vmin=-4)\n",
    "plt.figure(figsize = (6,5))\n",
    "hci.imshow_field(im_stack[0], vmax=im_stack[0].max(), vmin=0)\n",
    "\n",
    "plt.colorbar()\n",
    "plt.show()"
   ]
  },
  {
   "cell_type": "code",
   "execution_count": null,
   "metadata": {},
   "outputs": [],
   "source": [
    "psfs = np.asarray(psfs).reshape((nFrames,64,64))\n",
    "print(psfs.shape)\n",
    "plt.figure(figsize = (6,5))\n",
    "plt.imshow(np.median(psfs,axis = 0)/np.sum(np.median(psfs,axis = 0)))\n",
    "plt.colorbar()\n",
    "plt.show()"
   ]
  },
  {
   "cell_type": "code",
   "execution_count": null,
   "metadata": {},
   "outputs": [],
   "source": [
    "hdu = fits.PrimaryHDU(np.asarray(im_stack).reshape((nFrames,64,64)))\n",
    "hdu.writeto(\"testData/SimImages.fits\")"
   ]
  },
  {
   "cell_type": "code",
   "execution_count": null,
   "metadata": {},
   "outputs": [],
   "source": [
    "hdu2 = fits.PrimaryHDU(np.median(psfs,axis = 0)/np.sum(np.median(psfs,axis = 0)))\n",
    "hdu2.writeto(\"testData/SimImagesPSF.fits\")"
   ]
  },
  {
   "cell_type": "markdown",
   "metadata": {},
   "source": [
    "## Exoplanet injection"
   ]
  },
  {
   "cell_type": "code",
   "execution_count": 1,
   "metadata": {},
   "outputs": [
    {
     "name": "stderr",
     "output_type": "stream",
     "text": [
      "WARNING: AstropyDeprecationWarning: Composition of model classes will be removed in 4.0 (but composition of model instances is not affected) [astropy.modeling.core]\n"
     ]
    }
   ],
   "source": [
    "from pynpoint.processing.fluxposition import FakePlanetModule\n",
    "from pynpoint import Pypeline, \\\n",
    "                     Hdf5ReadingModule, \\\n",
    "                     FitsReadingModule, \\\n",
    "                     AngleCalculationModule\\\n",
    "                     TextReading\n"
   ]
  },
  {
   "cell_type": "code",
   "execution_count": null,
   "metadata": {},
   "outputs": [],
   "source": [
    "working_dir = \"/home/evert/Documents/PACO/\"\n",
    "input_dir = working_dir + \"testData/vip_datasets\"\n",
    "output_dir = working_dir + \"testData/\"\n",
    "data_filename = \"sphere_v471tau_cube.fits\"\n",
    "psf_filename = \"sphere_v471tau_psf.fits\"\n",
    "parang_filename = \"sphere_v471tau_pa.fits\"\n",
    "out_filename = \"v471tau_injected.fits\""
   ]
  },
  {
   "cell_type": "code",
   "execution_count": 2,
   "metadata": {},
   "outputs": [
    {
     "ename": "NameError",
     "evalue": "name 'Pypeline' is not defined",
     "output_type": "error",
     "traceback": [
      "\u001b[0;31m---------------------------------------------------------------------------\u001b[0m",
      "\u001b[0;31mNameError\u001b[0m                                 Traceback (most recent call last)",
      "\u001b[0;32m<ipython-input-2-1635beb3ff86>\u001b[0m in \u001b[0;36m<module>\u001b[0;34m\u001b[0m\n\u001b[0;32m----> 1\u001b[0;31m pipeline = Pypeline(working_place_in = working_dir,\n\u001b[0m\u001b[1;32m      2\u001b[0m                     \u001b[0minput_place_in\u001b[0m \u001b[0;34m=\u001b[0m \u001b[0minput_dir\u001b[0m\u001b[0;34m,\u001b[0m\u001b[0;34m\u001b[0m\u001b[0;34m\u001b[0m\u001b[0m\n\u001b[1;32m      3\u001b[0m                     output_place_in = output_dir)\n",
      "\u001b[0;31mNameError\u001b[0m: name 'Pypeline' is not defined"
     ]
    }
   ],
   "source": [
    "pipeline = Pypeline(working_place_in = working_dir,\n",
    "                    input_place_in = input_dir,\n",
    "                    output_place_in = output_dir)"
   ]
  },
  {
   "cell_type": "code",
   "execution_count": 3,
   "metadata": {},
   "outputs": [
    {
     "ename": "NameError",
     "evalue": "name 'FitsReadingModule' is not defined",
     "output_type": "error",
     "traceback": [
      "\u001b[0;31m---------------------------------------------------------------------------\u001b[0m",
      "\u001b[0;31mNameError\u001b[0m                                 Traceback (most recent call last)",
      "\u001b[0;32m<ipython-input-3-3d4bef3ce747>\u001b[0m in \u001b[0;36m<module>\u001b[0;34m\u001b[0m\n\u001b[0;32m----> 1\u001b[0;31m module = FitsReadingModule(name_in = in_filename,\n\u001b[0m\u001b[1;32m      2\u001b[0m                           \u001b[0minput_dir\u001b[0m \u001b[0;34m=\u001b[0m \u001b[0minput_dir\u001b[0m\u001b[0;34m,\u001b[0m\u001b[0;34m\u001b[0m\u001b[0;34m\u001b[0m\u001b[0m\n\u001b[1;32m      3\u001b[0m                           \u001b[0mimage_tag\u001b[0m \u001b[0;34m=\u001b[0m \u001b[0;34m'science'\u001b[0m\u001b[0;34m,\u001b[0m\u001b[0;34m\u001b[0m\u001b[0;34m\u001b[0m\u001b[0m\n\u001b[1;32m      4\u001b[0m                           overwrite = True)\n\u001b[1;32m      5\u001b[0m \u001b[0mpipeline\u001b[0m\u001b[0;34m.\u001b[0m\u001b[0madd_module\u001b[0m\u001b[0;34m(\u001b[0m\u001b[0mmodule\u001b[0m\u001b[0;34m)\u001b[0m\u001b[0;34m\u001b[0m\u001b[0;34m\u001b[0m\u001b[0m\n",
      "\u001b[0;31mNameError\u001b[0m: name 'FitsReadingModule' is not defined"
     ]
    }
   ],
   "source": [
    "module = FitsReadingModule(name_in = data_filename,\n",
    "                          input_dir = input_dir,\n",
    "                          image_tag = 'science',\n",
    "                          overwrite = True)\n",
    "pipeline.add_module(module)"
   ]
  },
  {
   "cell_type": "code",
   "execution_count": 4,
   "metadata": {},
   "outputs": [
    {
     "ename": "NameError",
     "evalue": "name 'FitsReadingModule' is not defined",
     "output_type": "error",
     "traceback": [
      "\u001b[0;31m---------------------------------------------------------------------------\u001b[0m",
      "\u001b[0;31mNameError\u001b[0m                                 Traceback (most recent call last)",
      "\u001b[0;32m<ipython-input-4-fd1f962a8e0d>\u001b[0m in \u001b[0;36m<module>\u001b[0;34m\u001b[0m\n\u001b[0;32m----> 1\u001b[0;31m module = FitsReadingModule(name_in = psf_filename,\n\u001b[0m\u001b[1;32m      2\u001b[0m                           \u001b[0minput_dir\u001b[0m \u001b[0;34m=\u001b[0m \u001b[0minput_dir\u001b[0m\u001b[0;34m,\u001b[0m\u001b[0;34m\u001b[0m\u001b[0;34m\u001b[0m\u001b[0m\n\u001b[1;32m      3\u001b[0m                           \u001b[0mimage_tag\u001b[0m \u001b[0;34m=\u001b[0m \u001b[0;34m'psf'\u001b[0m\u001b[0;34m,\u001b[0m\u001b[0;34m\u001b[0m\u001b[0;34m\u001b[0m\u001b[0m\n\u001b[1;32m      4\u001b[0m                           overwrite = True)\n\u001b[1;32m      5\u001b[0m \u001b[0mpipeline\u001b[0m\u001b[0;34m.\u001b[0m\u001b[0madd_module\u001b[0m\u001b[0;34m(\u001b[0m\u001b[0mmodule\u001b[0m\u001b[0;34m)\u001b[0m\u001b[0;34m\u001b[0m\u001b[0;34m\u001b[0m\u001b[0m\n",
      "\u001b[0;31mNameError\u001b[0m: name 'FitsReadingModule' is not defined"
     ]
    }
   ],
   "source": [
    "module = FitsReadingModule(name_in = psf_filename,\n",
    "                          input_dir = input_dir,\n",
    "                          image_tag = 'psf',\n",
    "                          overwrite = True)\n",
    "pipeline.add_module(module)"
   ]
  },
  {
   "cell_type": "code",
   "execution_count": 5,
   "metadata": {},
   "outputs": [
    {
     "ename": "NameError",
     "evalue": "name 'ParangReadingModule' is not defined",
     "output_type": "error",
     "traceback": [
      "\u001b[0;31m---------------------------------------------------------------------------\u001b[0m",
      "\u001b[0;31mNameError\u001b[0m                                 Traceback (most recent call last)",
      "\u001b[0;32m<ipython-input-5-69713d3b96d8>\u001b[0m in \u001b[0;36m<module>\u001b[0;34m\u001b[0m\n\u001b[1;32m      7\u001b[0m \u001b[0;31m# OR\u001b[0m\u001b[0;34m\u001b[0m\u001b[0;34m\u001b[0m\u001b[0;34m\u001b[0m\u001b[0m\n\u001b[1;32m      8\u001b[0m \u001b[0;34m\u001b[0m\u001b[0m\n\u001b[0;32m----> 9\u001b[0;31m module = ParangReadingModule(name_in = \"parang_reading\",\n\u001b[0m\u001b[1;32m     10\u001b[0m                              \u001b[0mfile_name\u001b[0m \u001b[0;34m=\u001b[0m \u001b[0mparang_filename\u001b[0m\u001b[0;34m,\u001b[0m\u001b[0;34m\u001b[0m\u001b[0;34m\u001b[0m\u001b[0m\n\u001b[1;32m     11\u001b[0m                              input_dir = input_dir)\n",
      "\u001b[0;31mNameError\u001b[0m: name 'ParangReadingModule' is not defined"
     ]
    }
   ],
   "source": [
    "#module = AngleCalculationModule(name_in='angle',\n",
    "#                                data_tag='last',\n",
    "#                                instrument='NACO')\n",
    "\n",
    "#pipeline.add_module(module)\n",
    "\n",
    "# OR\n",
    "\n",
    "module = ParangReadingModule(name_in = \"parang_reading\",\n",
    "                             file_name = parang_filename,\n",
    "                             input_dir = input_dir)\n",
    "pipeline.add_module(module)"
   ]
  },
  {
   "cell_type": "code",
   "execution_count": 6,
   "metadata": {},
   "outputs": [
    {
     "ename": "NameError",
     "evalue": "name 'pipeline' is not defined",
     "output_type": "error",
     "traceback": [
      "\u001b[0;31m---------------------------------------------------------------------------\u001b[0m",
      "\u001b[0;31mNameError\u001b[0m                                 Traceback (most recent call last)",
      "\u001b[0;32m<ipython-input-6-7643e9526081>\u001b[0m in \u001b[0;36m<module>\u001b[0;34m\u001b[0m\n\u001b[1;32m      9\u001b[0m                           \u001b[0mposition\u001b[0m \u001b[0;34m=\u001b[0m \u001b[0mposn\u001b[0m\u001b[0;34m,\u001b[0m\u001b[0;34m\u001b[0m\u001b[0;34m\u001b[0m\u001b[0m\n\u001b[1;32m     10\u001b[0m                           magnitude = magnitude)\n\u001b[0;32m---> 11\u001b[0;31m \u001b[0mpipeline\u001b[0m\u001b[0;34m.\u001b[0m\u001b[0madd_module\u001b[0m\u001b[0;34m(\u001b[0m\u001b[0mmodule\u001b[0m\u001b[0;34m)\u001b[0m\u001b[0;34m\u001b[0m\u001b[0;34m\u001b[0m\u001b[0m\n\u001b[0m\u001b[1;32m     12\u001b[0m \u001b[0;34m\u001b[0m\u001b[0m\n",
      "\u001b[0;31mNameError\u001b[0m: name 'pipeline' is not defined"
     ]
    }
   ],
   "source": [
    "# Repeat for each planet to be injected\n",
    "#posn = (0.1,30.0)  # (sep angle [as], posn angle [deg])\n",
    "#magnitude = 5.0    # Magnitude relative to star\n",
    "\n",
    "#module = FakePlanetModule(name_in = 'fake_planet',\n",
    "#                          image_in_tag = 'science',\n",
    "#                          psf_in_tag = 'psf',\n",
    "#                          image_out_tag = 'injected',\n",
    "#                          position = posn,\n",
    "#                          magnitude = magnitude)\n",
    "#pipeline.add_module(module)\n",
    "\n",
    "############\n",
    "posn_list = [(0.1,30),(0.5,30),(1.0,30),(0.3,120),(0.8,120),(1.3,120)]\n",
    "mag_list = [4,4.5,5,5.5,6,7]\n",
    "for i in range(len(posn_list)):\n",
    "    module = FakePlanetModule(name_in = 'fake_planet_'+str(i),\n",
    "                          image_in_tag = 'science',\n",
    "                          psf_in_tag = 'psf',\n",
    "                          image_out_tag = 'science',\n",
    "                          position = posn_list[i],\n",
    "                          magnitude = mag_list[i])\n",
    "    pipeline.add_module(module)"
   ]
  },
  {
   "cell_type": "code",
   "execution_count": null,
   "metadata": {},
   "outputs": [],
   "source": [
    "pipeline.run()"
   ]
  }
 ],
 "metadata": {
  "kernelspec": {
   "display_name": "Python 3",
   "language": "python",
   "name": "python3"
  },
  "language_info": {
   "codemirror_mode": {
    "name": "ipython",
    "version": 3
   },
   "file_extension": ".py",
   "mimetype": "text/x-python",
   "name": "python",
   "nbconvert_exporter": "python",
   "pygments_lexer": "ipython3",
   "version": "3.7.3"
  }
 },
 "nbformat": 4,
 "nbformat_minor": 2
}
