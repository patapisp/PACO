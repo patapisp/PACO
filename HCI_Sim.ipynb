{
 "cells": [
  {
   "cell_type": "markdown",
   "metadata": {},
   "source": [
    "### Generate simulated HCI images for testing PACO and other algorithms\n",
    "Evert Nasedkin"
   ]
  },
  {
   "cell_type": "code",
   "execution_count": 1,
   "metadata": {},
   "outputs": [
    {
     "name": "stderr",
     "output_type": "stream",
     "text": [
      "WARNING: AstropyDeprecationWarning: Composition of model classes will be removed in 4.0 (but composition of model instances is not affected) [astropy.modeling.core]\n"
     ]
    }
   ],
   "source": [
    "import numpy as np\n",
    "import os\n",
    "from astropy.io import fits\n",
    "import matplotlib.pyplot as plt\n",
    "\n",
    "import hcipy as hci"
   ]
  },
  {
   "cell_type": "markdown",
   "metadata": {},
   "source": [
    "## Simulated coronographic images using hcipy"
   ]
  },
  {
   "cell_type": "code",
   "execution_count": 2,
   "metadata": {},
   "outputs": [],
   "source": [
    "# Telescope and Wavelength parameters\n",
    "D_tel = 6.5 # meter\n",
    "wavelength = 2.5e-6 # meter\n",
    "\n",
    "# Generate pupil and focal plane grids, and the wavefront propogator\n",
    "pupil_grid = hci.make_pupil_grid(1024,D_tel)\n",
    "focal_grid = hci.make_focal_grid(pupil_grid, 4, 8, wavelength=wavelength)\n",
    "prop = hci.FraunhoferPropagator(pupil_grid, focal_grid)\n",
    "\n",
    "# Build the pupil aperture\n",
    "\n",
    "# Circular Aperture\n",
    "#aperture = hci.circular_aperture(D_tel)\n",
    "#aperture = hci.evaluate_supersampled(aperture, pupil_grid, 8)\n",
    "\n",
    "# Magellan Aperture\n",
    "aperture = hci.make_magellan_aperture()\n",
    "\n",
    "# Adaptive Optics\n",
    "F_mla = 0.03\n",
    "N_mla = 8\n",
    "D_mla = 1.0 / N_mla\n",
    "#x = np.arange(-1,1,D_mla)\n",
    "#mla_grid = hci.CartesianGrid(SeparatedCoords((x,x)))\n",
    "#mla_shape = hci.rectangular_aperture(D_mla)\n",
    "#microlens_array = hci.MicroLensArray(pupil_grid, mla_grid, F_mla * D_mla, mla_shape)\n",
    "#sh_prop = hci.FresnelPropagator(pupil_grid, F_mla * D_mla)\n"
   ]
  },
  {
   "cell_type": "code",
   "execution_count": null,
   "metadata": {},
   "outputs": [
    {
     "name": "stderr",
     "output_type": "stream",
     "text": [
      "/home/evert/.local/lib/python3.7/site-packages/hcipy/fourier/fast_fourier_transform.py:70: FutureWarning: Using a non-tuple sequence for multidimensional indexing is deprecated; use `arr[tuple(seq)]` instead of `arr[seq]`. In the future this will be interpreted as an array index, `arr[np.array(seq)]`, which will result either in an error or a different result.\n",
      "  f[self.cutout_input] = (field.ravel() * self.weights * self.shift_output).reshape(self.shape_in)\n",
      "/home/evert/.local/lib/python3.7/site-packages/hcipy/fourier/fast_fourier_transform.py:72: FutureWarning: Using a non-tuple sequence for multidimensional indexing is deprecated; use `arr[tuple(seq)]` instead of `arr[seq]`. In the future this will be interpreted as an array index, `arr[np.array(seq)]`, which will result either in an error or a different result.\n",
      "  res = res[self.cutout_output].ravel() * self.shift_input\n",
      "/home/evert/.local/lib/python3.7/site-packages/hcipy/fourier/fast_fourier_transform.py:81: FutureWarning: Using a non-tuple sequence for multidimensional indexing is deprecated; use `arr[tuple(seq)]` instead of `arr[seq]`. In the future this will be interpreted as an array index, `arr[np.array(seq)]`, which will result either in an error or a different result.\n",
      "  f[self.cutout_output] = (field.ravel() / self.shift_input).reshape(self.shape_out)\n",
      "/home/evert/.local/lib/python3.7/site-packages/hcipy/fourier/fast_fourier_transform.py:83: FutureWarning: Using a non-tuple sequence for multidimensional indexing is deprecated; use `arr[tuple(seq)]` instead of `arr[seq]`. In the future this will be interpreted as an array index, `arr[np.array(seq)]`, which will result either in an error or a different result.\n",
      "  res = res[self.cutout_input].ravel() / self.weights / self.shift_output\n"
     ]
    }
   ],
   "source": [
    "im_stack = []\n",
    "psfs = []\n",
    "nFrames = 150\n",
    "tInt = 1.5\n",
    "# Generate the coronagraph\n",
    "coro = hci.VortexCoronagraph(pupil_grid, charge=2, levels=8)\n",
    "lyot_stop = hci.Apodizer(hci.circular_aperture(0.99*D_tel)(pupil_grid))\n",
    "\n",
    "for i in range(nFrames):\n",
    "    # Generate a wavefront\n",
    "    #wf = hci.Wavefront(aperture,wavelength)\n",
    "    wf = hci.Wavefront(aperture(pupil_grid),wavelength)\n",
    "    wf.total_power = 100000\n",
    "\n",
    "    # Atmospheric Distortion Layers\n",
    "    fried_parameter = 5.5 # meter\n",
    "    outer_scale = 20 # meter\n",
    "    velocity = 1 # meter/sec\n",
    "\n",
    "    # Single Layer\n",
    "    Cn_squared = hci.Cn_squared_from_fried_parameter(fried_parameter, wavelength)\n",
    "    layer = hci.InfiniteAtmosphericLayer(pupil_grid, Cn_squared, outer_scale, velocity)\n",
    "    layer.t = i * tInt\n",
    "    wf2 = layer(wf)\n",
    "\n",
    "    # Multi Layer\n",
    "    #spectral_noise_factory = hci.SpectralNoiseFactoryFFT(kolmogorov_psd, pupil_grid, 8)\n",
    "    #turbulence_layers = hci.make_standard_multilayer_atmosphere(fried_parameter, wavelength=wavelength)\n",
    "    #atmospheric_model = hci.AtmosphericModel(spectral_noise_factory, turbulence_layers)\n",
    "    #wf2 = atmospheric_model(wf)\n",
    "    #sci_img = prop(wf2).intensity\n",
    "    #wf3 = microlens_array(wf2)\n",
    "    #wfs_img = sh_prop(wf3).intensity\n",
    "\n",
    "    # Generate surface aberration\n",
    "    aberration = hci.SurfaceAberration(pupil_grid, 0.25*wavelength, D_tel)\n",
    "    ab_wf = aberration(wf2)\n",
    "    \n",
    "    # Lyot Plane\n",
    "    lyot_wf = coro(ab_wf)\n",
    "\n",
    "    # Add a Lyot Stop\n",
    "    lyot_img = prop(lyot_stop(lyot_wf))\n",
    "    img = lyot_img\n",
    "    img_ref = prop(wf)\n",
    "    # Build a Detector\n",
    "    flat_field = 0.1\n",
    "    dark = 10\n",
    "    detector = hci.NoisyDetector(focal_grid, dark_current_rate=dark, flat_field=flat_field)\n",
    "    detector.integrate(lyot_img, tInt)\n",
    "    image = detector.read_out()\n",
    "    im_stack.append(image)\n",
    "    img = prop(aberration(wf))\n",
    "    detector.integrate(img, 1.5)\n",
    "    psf = detector.read_out()\n",
    "    psfs.append(psf)"
   ]
  },
  {
   "cell_type": "code",
   "execution_count": null,
   "metadata": {
    "scrolled": true
   },
   "outputs": [],
   "source": [
    "# Show the wavefront\n",
    "#hci.imshow_field(np.log10(img.intensity / img_ref.intensity.max()), vmin=-4)\n",
    "plt.figure(figsize = (6,5))\n",
    "hci.imshow_field(im_stack[0], vmax=im_stack[0].max(), vmin=0)\n",
    "\n",
    "plt.colorbar()\n",
    "plt.show()"
   ]
  },
  {
   "cell_type": "code",
   "execution_count": null,
   "metadata": {},
   "outputs": [],
   "source": [
    "psfs = np.asarray(psfs).reshape((nFrames,64,64))\n",
    "print(psfs.shape)\n",
    "plt.figure(figsize = (6,5))\n",
    "plt.imshow(np.median(psfs,axis = 0)/np.sum(np.median(psfs,axis = 0)))\n",
    "plt.colorbar()\n",
    "plt.show()"
   ]
  },
  {
   "cell_type": "code",
   "execution_count": null,
   "metadata": {},
   "outputs": [],
   "source": [
    "hdu = fits.PrimaryHDU(np.asarray(im_stack).reshape((nFrames,64,64)))\n",
    "hdu.writeto(\"testData/SimImages.fits\")"
   ]
  },
  {
   "cell_type": "code",
   "execution_count": null,
   "metadata": {},
   "outputs": [],
   "source": [
    "hdu2 = fits.PrimaryHDU(np.median(psfs,axis = 0)/np.sum(np.median(psfs,axis = 0)))\n",
    "hdu2.writeto(\"testData/SimImagesPSF.fits\")"
   ]
  },
  {
   "cell_type": "markdown",
   "metadata": {},
   "source": [
    "## Exoplanet injection"
   ]
  },
  {
   "cell_type": "code",
   "execution_count": 14,
   "metadata": {},
   "outputs": [],
   "source": [
    "from pynpoint.processing.fluxposition import FakePlanetModule\n",
    "from pynpoint import Pypeline, \\\n",
    "                     Hdf5ReadingModule, \\\n",
    "                     FitsReadingModule, \\\n",
    "                     AngleCalculationModule, \\\n",
    "                     ParangReadingModule\n"
   ]
  },
  {
   "cell_type": "code",
   "execution_count": 38,
   "metadata": {},
   "outputs": [],
   "source": [
    "working_dir = \"/home/evert/Documents/PACO/\"\n",
    "input_dir = working_dir + \"testData/vip_datasets/\"\n",
    "output_dir = working_dir + \"testData/\"\n",
    "data_filename = \"bpic_data/naco_betapic_cube.fits\"\n",
    "psf_filename = \"bpic_psf/naco_betapic_psf.fits\"\n",
    "parang_filename = \"naco_betapic_pa.dat\"\n",
    "out_filename = \"naco_betapic_injected.fits\""
   ]
  },
  {
   "cell_type": "code",
   "execution_count": 46,
   "metadata": {},
   "outputs": [
    {
     "name": "stdout",
     "output_type": "stream",
     "text": [
      "Initiating PynPoint v0.8.0... [DONE]\n"
     ]
    }
   ],
   "source": [
    "pipeline = Pypeline(working_place_in = working_dir,\n",
    "                    input_place_in = input_dir,\n",
    "                    output_place_in = output_dir)"
   ]
  },
  {
   "cell_type": "code",
   "execution_count": 47,
   "metadata": {},
   "outputs": [],
   "source": [
    "module = FitsReadingModule(name_in = \"read1\",\n",
    "                          input_dir = input_dir + \"bpic_data/\",\n",
    "                          image_tag = 'science',\n",
    "                          overwrite = True)\n",
    "pipeline.add_module(module)"
   ]
  },
  {
   "cell_type": "code",
   "execution_count": 48,
   "metadata": {},
   "outputs": [],
   "source": [
    "module = FitsReadingModule(name_in = psf_filename,\n",
    "                          input_dir = input_dir + \"bpic_psf/\",\n",
    "                          image_tag = 'psf',\n",
    "                          overwrite = True)\n",
    "pipeline.add_module(module)"
   ]
  },
  {
   "cell_type": "code",
   "execution_count": 49,
   "metadata": {},
   "outputs": [],
   "source": [
    "#module = AngleCalculationModule(name_in='angle',\n",
    "#                                data_tag='last',\n",
    "#                                instrument='NACO')\n",
    "\n",
    "#pipeline.add_module(module)\n",
    "\n",
    "# OR\n",
    "\n",
    "module = ParangReadingModule(name_in = \"parang_reading\",\n",
    "                             file_name = parang_filename,\n",
    "                             input_dir = input_dir)\n",
    "pipeline.add_module(module)"
   ]
  },
  {
   "cell_type": "code",
   "execution_count": 50,
   "metadata": {},
   "outputs": [],
   "source": [
    "# Repeat for each planet to be injected\n",
    "posn = (0.8,30.0)  # (sep angle [as], posn angle [deg])\n",
    "magnitude = 5.0    # Magnitude relative to star\n",
    "\n",
    "module = FakePlanetModule(name_in = 'fake_planet',\n",
    "                          image_in_tag = 'science',\n",
    "                          psf_in_tag = 'psf',\n",
    "                          image_out_tag = 'injected',\n",
    "                          position = posn,\n",
    "                          magnitude = magnitude)\n",
    "pipeline.add_module(module)\n",
    "\n",
    "############\n",
    "#posn_list = [(0.1,30),(0.5,30),(1.0,30),(0.3,120),(0.8,120),(1.3,120)]\n",
    "#mag_list = [4,4.5,5,5.5,6,7]\n",
    "#for i in range(len(posn_list)):\n",
    "#    module = FakePlanetModule(name_in = 'fake_planet_'+str(i),\n",
    "#                          image_in_tag = 'science',\n",
    "#                          psf_in_tag = 'psf',\n",
    "#                          image_out_tag = 'science',\n",
    "#                          position = posn_list[i],\n",
    "#                          magnitude = mag_list[i])\n",
    "#    pipeline.add_module(module)"
   ]
  },
  {
   "cell_type": "code",
   "execution_count": 51,
   "metadata": {},
   "outputs": [],
   "source": [
    "from pynpoint import FitsWritingModule\n",
    "module = FitsWritingModule(name_in='write',\n",
    "                           file_name=out_filename,\n",
    "                           output_dir=output_dir,\n",
    "                           data_tag='injected',\n",
    "                           data_range=None)\n",
    "pipeline.add_module(module)"
   ]
  },
  {
   "cell_type": "code",
   "execution_count": 52,
   "metadata": {},
   "outputs": [
    {
     "name": "stdout",
     "output_type": "stream",
     "text": [
      "Validating Pypeline... [DONE]\n",
      "Running FitsReadingModule... [DONE]                      \n",
      "Running FitsReadingModule... [DONE]                      \n",
      "Running ParangReadingModule... [DONE]\n"
     ]
    },
    {
     "name": "stderr",
     "output_type": "stream",
     "text": [
      "/home/evert/.local/lib/python3.7/site-packages/pynpoint/util/attributes.py:75: UserWarning: Static attribute INSTRUMENT (=SPHERE) not found in the FITS header.\n",
      "  warnings.warn(f'Static attribute {attr} (={fitskey}) not found in the FITS '\n",
      "/home/evert/.local/lib/python3.7/site-packages/pynpoint/util/attributes.py:75: UserWarning: Static attribute DIT (=ESO DET DIT) not found in the FITS header.\n",
      "  warnings.warn(f'Static attribute {attr} (={fitskey}) not found in the FITS '\n",
      "/home/evert/.local/lib/python3.7/site-packages/pynpoint/util/attributes.py:75: UserWarning: Static attribute LATITUDE (=ESO TEL GEOLAT) not found in the FITS header.\n",
      "  warnings.warn(f'Static attribute {attr} (={fitskey}) not found in the FITS '\n",
      "/home/evert/.local/lib/python3.7/site-packages/pynpoint/util/attributes.py:75: UserWarning: Static attribute LONGITUDE (=ESO TEL GEOLON) not found in the FITS header.\n",
      "  warnings.warn(f'Static attribute {attr} (={fitskey}) not found in the FITS '\n",
      "/home/evert/.local/lib/python3.7/site-packages/pynpoint/util/attributes.py:123: UserWarning: Non-static attribute EXP_NO (=ESO DET EXP NO) not found in the FITS header.\n",
      "  'FITS header.' % (attr, fitskey))\n",
      "/home/evert/.local/lib/python3.7/site-packages/pynpoint/util/attributes.py:123: UserWarning: Non-static attribute NDIT (=ESO DET NDIT) not found in the FITS header.\n",
      "  'FITS header.' % (attr, fitskey))\n",
      "/home/evert/.local/lib/python3.7/site-packages/pynpoint/util/attributes.py:123: UserWarning: Non-static attribute PARANG_START (=ESO ADA POSANG) not found in the FITS header.\n",
      "  'FITS header.' % (attr, fitskey))\n",
      "/home/evert/.local/lib/python3.7/site-packages/pynpoint/util/attributes.py:123: UserWarning: Non-static attribute PARANG_END (=ESO ADA POSANG END) not found in the FITS header.\n",
      "  'FITS header.' % (attr, fitskey))\n",
      "/home/evert/.local/lib/python3.7/site-packages/pynpoint/util/attributes.py:123: UserWarning: Non-static attribute DITHER_X (=ESO SEQ CUMOFFSETX) not found in the FITS header.\n",
      "  'FITS header.' % (attr, fitskey))\n",
      "/home/evert/.local/lib/python3.7/site-packages/pynpoint/util/attributes.py:123: UserWarning: Non-static attribute DITHER_Y (=ESO SEQ CUMOFFSETY) not found in the FITS header.\n",
      "  'FITS header.' % (attr, fitskey))\n",
      "/home/evert/.local/lib/python3.7/site-packages/pynpoint/util/attributes.py:123: UserWarning: Non-static attribute PUPIL (=ESO ADA PUPILPOS) not found in the FITS header.\n",
      "  'FITS header.' % (attr, fitskey))\n",
      "/home/evert/.local/lib/python3.7/site-packages/pynpoint/util/attributes.py:123: UserWarning: Non-static attribute DATE (=DATE-OBS) not found in the FITS header.\n",
      "  'FITS header.' % (attr, fitskey))\n",
      "/home/evert/.local/lib/python3.7/site-packages/pynpoint/util/attributes.py:123: UserWarning: Non-static attribute RA (=RA) not found in the FITS header.\n",
      "  'FITS header.' % (attr, fitskey))\n",
      "/home/evert/.local/lib/python3.7/site-packages/pynpoint/util/attributes.py:123: UserWarning: Non-static attribute DEC (=DEC) not found in the FITS header.\n",
      "  'FITS header.' % (attr, fitskey))\n",
      "/home/evert/.local/lib/python3.7/site-packages/pynpoint/util/attributes.py:75: UserWarning: Static attribute INSTRUMENT (=SPHERE) not found in the FITS header.\n",
      "  warnings.warn(f'Static attribute {attr} (={fitskey}) not found in the FITS '\n",
      "/home/evert/.local/lib/python3.7/site-packages/pynpoint/util/attributes.py:75: UserWarning: Static attribute DIT (=ESO DET DIT) not found in the FITS header.\n",
      "  warnings.warn(f'Static attribute {attr} (={fitskey}) not found in the FITS '\n",
      "/home/evert/.local/lib/python3.7/site-packages/pynpoint/util/attributes.py:75: UserWarning: Static attribute LATITUDE (=ESO TEL GEOLAT) not found in the FITS header.\n",
      "  warnings.warn(f'Static attribute {attr} (={fitskey}) not found in the FITS '\n",
      "/home/evert/.local/lib/python3.7/site-packages/pynpoint/util/attributes.py:75: UserWarning: Static attribute LONGITUDE (=ESO TEL GEOLON) not found in the FITS header.\n",
      "  warnings.warn(f'Static attribute {attr} (={fitskey}) not found in the FITS '\n",
      "/home/evert/.local/lib/python3.7/site-packages/pynpoint/util/attributes.py:123: UserWarning: Non-static attribute EXP_NO (=ESO DET EXP NO) not found in the FITS header.\n",
      "  'FITS header.' % (attr, fitskey))\n",
      "/home/evert/.local/lib/python3.7/site-packages/pynpoint/util/attributes.py:123: UserWarning: Non-static attribute NDIT (=ESO DET NDIT) not found in the FITS header.\n",
      "  'FITS header.' % (attr, fitskey))\n",
      "/home/evert/.local/lib/python3.7/site-packages/pynpoint/util/attributes.py:123: UserWarning: Non-static attribute PARANG_START (=ESO ADA POSANG) not found in the FITS header.\n",
      "  'FITS header.' % (attr, fitskey))\n",
      "/home/evert/.local/lib/python3.7/site-packages/pynpoint/util/attributes.py:123: UserWarning: Non-static attribute PARANG_END (=ESO ADA POSANG END) not found in the FITS header.\n",
      "  'FITS header.' % (attr, fitskey))\n",
      "/home/evert/.local/lib/python3.7/site-packages/pynpoint/util/attributes.py:123: UserWarning: Non-static attribute DITHER_X (=ESO SEQ CUMOFFSETX) not found in the FITS header.\n",
      "  'FITS header.' % (attr, fitskey))\n",
      "/home/evert/.local/lib/python3.7/site-packages/pynpoint/util/attributes.py:123: UserWarning: Non-static attribute DITHER_Y (=ESO SEQ CUMOFFSETY) not found in the FITS header.\n",
      "  'FITS header.' % (attr, fitskey))\n",
      "/home/evert/.local/lib/python3.7/site-packages/pynpoint/util/attributes.py:123: UserWarning: Non-static attribute PUPIL (=ESO ADA PUPILPOS) not found in the FITS header.\n",
      "  'FITS header.' % (attr, fitskey))\n",
      "/home/evert/.local/lib/python3.7/site-packages/pynpoint/util/attributes.py:123: UserWarning: Non-static attribute DATE (=DATE-OBS) not found in the FITS header.\n",
      "  'FITS header.' % (attr, fitskey))\n",
      "/home/evert/.local/lib/python3.7/site-packages/pynpoint/util/attributes.py:123: UserWarning: Non-static attribute RA (=RA) not found in the FITS header.\n",
      "  'FITS header.' % (attr, fitskey))\n",
      "/home/evert/.local/lib/python3.7/site-packages/pynpoint/util/attributes.py:123: UserWarning: Non-static attribute DEC (=DEC) not found in the FITS header.\n",
      "  'FITS header.' % (attr, fitskey))\n",
      "/home/evert/.local/lib/python3.7/site-packages/pynpoint/core/dataio.py:1095: UserWarning: Can not store attribute if data tag does not exist.\n",
      "  warnings.warn('Can not store attribute if data tag does not exist.')\n",
      "/home/evert/.local/lib/python3.7/site-packages/pynpoint/core/dataio.py:530: UserWarning: The attribute 'PARANG' was not found.\n",
      "  warnings.warn(f'The attribute \\'{name}\\' was not found.')\n"
     ]
    },
    {
     "ename": "ValueError",
     "evalue": "The images in '{self.m_image_in_port.tag}' should have the same dimensions as the images images in '{self.m_psf_in_port.tag}'.",
     "output_type": "error",
     "traceback": [
      "\u001b[0;31m---------------------------------------------------------------------------\u001b[0m",
      "\u001b[0;31mValueError\u001b[0m                                Traceback (most recent call last)",
      "\u001b[0;32m<ipython-input-52-c331fb1765cf>\u001b[0m in \u001b[0;36m<module>\u001b[0;34m\u001b[0m\n\u001b[0;32m----> 1\u001b[0;31m \u001b[0mpipeline\u001b[0m\u001b[0;34m.\u001b[0m\u001b[0mrun\u001b[0m\u001b[0;34m(\u001b[0m\u001b[0;34m)\u001b[0m\u001b[0;34m\u001b[0m\u001b[0;34m\u001b[0m\u001b[0m\n\u001b[0m",
      "\u001b[0;32m~/.local/lib/python3.7/site-packages/pynpoint/core/pypeline.py\u001b[0m in \u001b[0;36mrun\u001b[0;34m(self)\u001b[0m\n\u001b[1;32m    394\u001b[0m \u001b[0;34m\u001b[0m\u001b[0m\n\u001b[1;32m    395\u001b[0m         \u001b[0;32mfor\u001b[0m \u001b[0mkey\u001b[0m \u001b[0;32min\u001b[0m \u001b[0mself\u001b[0m\u001b[0;34m.\u001b[0m\u001b[0m_m_modules\u001b[0m\u001b[0;34m:\u001b[0m\u001b[0;34m\u001b[0m\u001b[0;34m\u001b[0m\u001b[0m\n\u001b[0;32m--> 396\u001b[0;31m             \u001b[0mself\u001b[0m\u001b[0;34m.\u001b[0m\u001b[0m_m_modules\u001b[0m\u001b[0;34m[\u001b[0m\u001b[0mkey\u001b[0m\u001b[0;34m]\u001b[0m\u001b[0;34m.\u001b[0m\u001b[0mrun\u001b[0m\u001b[0;34m(\u001b[0m\u001b[0;34m)\u001b[0m\u001b[0;34m\u001b[0m\u001b[0;34m\u001b[0m\u001b[0m\n\u001b[0m\u001b[1;32m    397\u001b[0m \u001b[0;34m\u001b[0m\u001b[0m\n\u001b[1;32m    398\u001b[0m     def run_module(self,\n",
      "\u001b[0;32m~/.local/lib/python3.7/site-packages/pynpoint/processing/fluxposition.py\u001b[0m in \u001b[0;36mrun\u001b[0;34m(self)\u001b[0m\n\u001b[1;32m    117\u001b[0m \u001b[0;34m\u001b[0m\u001b[0m\n\u001b[1;32m    118\u001b[0m         \u001b[0;32mif\u001b[0m \u001b[0mpsf_shape\u001b[0m\u001b[0;34m[\u001b[0m\u001b[0;34m-\u001b[0m\u001b[0;36m2\u001b[0m\u001b[0;34m:\u001b[0m\u001b[0;34m]\u001b[0m \u001b[0;34m!=\u001b[0m \u001b[0mim_shape\u001b[0m\u001b[0;34m[\u001b[0m\u001b[0;34m-\u001b[0m\u001b[0;36m2\u001b[0m\u001b[0;34m:\u001b[0m\u001b[0;34m]\u001b[0m\u001b[0;34m:\u001b[0m\u001b[0;34m\u001b[0m\u001b[0;34m\u001b[0m\u001b[0m\n\u001b[0;32m--> 119\u001b[0;31m             raise ValueError('The images in \\'{self.m_image_in_port.tag}\\' should have the same '\n\u001b[0m\u001b[1;32m    120\u001b[0m                              'dimensions as the images images in \\'{self.m_psf_in_port.tag}\\'.')\n\u001b[1;32m    121\u001b[0m \u001b[0;34m\u001b[0m\u001b[0m\n",
      "\u001b[0;31mValueError\u001b[0m: The images in '{self.m_image_in_port.tag}' should have the same dimensions as the images images in '{self.m_psf_in_port.tag}'."
     ]
    }
   ],
   "source": [
    "pipeline.run()"
   ]
  },
  {
   "cell_type": "code",
   "execution_count": null,
   "metadata": {},
   "outputs": [],
   "source": []
  },
  {
   "cell_type": "code",
   "execution_count": null,
   "metadata": {},
   "outputs": [],
   "source": []
  }
 ],
 "metadata": {
  "kernelspec": {
   "display_name": "Python 3",
   "language": "python",
   "name": "python3"
  },
  "language_info": {
   "codemirror_mode": {
    "name": "ipython",
    "version": 3
   },
   "file_extension": ".py",
   "mimetype": "text/x-python",
   "name": "python",
   "nbconvert_exporter": "python",
   "pygments_lexer": "ipython3",
   "version": "3.7.3"
  }
 },
 "nbformat": 4,
 "nbformat_minor": 2
}
