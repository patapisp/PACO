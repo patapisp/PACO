{
 "cells": [
  {
   "cell_type": "code",
   "execution_count": 1,
   "metadata": {},
   "outputs": [],
   "source": [
    "import numpy as np\n",
    "import os\n",
    "from astropy.io import fits\n",
    "import matplotlib.pyplot as plt\n",
    "\n",
    "import paco.processing.paco as p\n",
    "import paco.processing.fullpaco as f_paco\n",
    "import paco.processing.fastpaco as fastPACO\n",
    "\n",
    "from paco.util.util import *\n",
    "import cv2 as cv2\n",
    "from astropy.convolution import convolve, Gaussian2DKernel, AiryDisk2DKernel\n",
    "from astropy.modeling.models import Gaussian2D\n",
    "\n",
    "from matplotlib.colors import LogNorm \n",
    "fp = fastPACO.FastPACO(patch_size = 5)\n",
    "%matplotlib notebook\n"
   ]
  },
  {
   "cell_type": "code",
   "execution_count": 9,
   "metadata": {
    "scrolled": true
   },
   "outputs": [
    {
     "name": "stdout",
     "output_type": "stream",
     "text": [
      "/home/evert/Documents/PACO/PACO/testData/\n",
      "230\n"
     ]
    }
   ],
   "source": [
    "path_data = os.path.dirname(os.getcwd()) + '/PACO/testData/'\n",
    "print(path_data)\n",
    "angles = np.loadtxt(os.path.join(path_data, \"parang.txt\"))\n",
    "print(len(angles))\n"
   ]
  },
  {
   "cell_type": "code",
   "execution_count": 10,
   "metadata": {},
   "outputs": [
    {
     "name": "stdout",
     "output_type": "stream",
     "text": [
      "(230, 60, 60)\n",
      "(60, 60)\n"
     ]
    },
    {
     "name": "stderr",
     "output_type": "stream",
     "text": [
      "/home/evert/.local/share/virtualenvs/PACO-4ds6DMDq/lib/python3.7/site-packages/matplotlib/cbook/__init__.py:2349: DeprecationWarning: Using or importing the ABCs from 'collections' instead of from 'collections.abc' is deprecated, and in 3.8 it will stop working\n",
      "  if isinstance(obj, collections.Iterator):\n",
      "/home/evert/.local/share/virtualenvs/PACO-4ds6DMDq/lib/python3.7/site-packages/matplotlib/cbook/__init__.py:2366: DeprecationWarning: Using or importing the ABCs from 'collections' instead of from 'collections.abc' is deprecated, and in 3.8 it will stop working\n",
      "  return list(data) if isinstance(data, collections.MappingView) else data\n"
     ]
    },
    {
     "data": {
      "text/plain": [
       "<matplotlib.colorbar.Colorbar at 0x7f7ba58ea7f0>"
      ]
     },
     "execution_count": 10,
     "metadata": {},
     "output_type": "execute_result"
    },
    {
     "data": {
      "image/png": "[encoded data removed]",
      "text/plain": [
       "<Figure size 432x288 with 2 Axes>"
      ]
     },
     "metadata": {
      "needs_background": "light"
     },
     "output_type": "display_data"
    }
   ],
   "source": [
    "data = fits.getdata(os.path.join(path_data, \"stack100_rad1.6as.fits\"))[:,:-1,:-1]\n",
    "print(np.shape(data))\n",
    "plt.imshow(data[0].T)\n",
    "print(np.shape(data[0]))\n",
    "plt.colorbar()"
   ]
  },
  {
   "cell_type": "markdown",
   "metadata": {},
   "source": [
    "## Full PACO "
   ]
  },
  {
   "cell_type": "code",
   "execution_count": null,
   "metadata": {},
   "outputs": [],
   "source": [
    "#fp = f_paco.FullPACO(patch_size = 49)"
   ]
  },
  {
   "cell_type": "code",
   "execution_count": null,
   "metadata": {},
   "outputs": [],
   "source": [
    "#fp.setImageSequence(rot_images)\n",
    "#a,b = fp.PACO(angles,scale = 1)"
   ]
  },
  {
   "cell_type": "code",
   "execution_count": null,
   "metadata": {
    "scrolled": true
   },
   "outputs": [],
   "source": [
    "#phi0s = np.array([[30,30]])\n",
    "#a,b = fp.PACO(angles)\n"
   ]
  },
  {
   "cell_type": "code",
   "execution_count": null,
   "metadata": {},
   "outputs": [],
   "source": [
    "#img = b/np.sqrt(a)\n",
    "#plt.imshow(img, origin='lower')\n",
    "\n",
    "#clb = plt.colorbar()\n",
    "#clb.ax.set_title('SNR')"
   ]
  },
  {
   "cell_type": "code",
   "execution_count": null,
   "metadata": {},
   "outputs": [],
   "source": [
    "#plt.imshow(1/np.sqrt(a), origin='lower')\n",
    "\n",
    "#clb = plt.colorbar()"
   ]
  },
  {
   "cell_type": "markdown",
   "metadata": {},
   "source": [
    "Notes: \n",
    "\n",
    "As the signal of the source increases, it pushes a_ij and b_ij towards 0\n",
    "Both a and b are rotated 90 degrees from the source image."
   ]
  },
  {
   "cell_type": "code",
   "execution_count": null,
   "metadata": {},
   "outputs": [],
   "source": [
    "#plt.imshow(b.T, origin='lower')\n",
    "\n",
    "#clb = plt.colorbar()"
   ]
  },
  {
   "cell_type": "markdown",
   "metadata": {},
   "source": [
    "## Fast PACO"
   ]
  },
  {
   "cell_type": "code",
   "execution_count": 12,
   "metadata": {
    "scrolled": true
   },
   "outputs": [
    {
     "name": "stdout",
     "output_type": "stream",
     "text": [
      "Precomputing Statistics...\n",
      "Running PACO...\n",
      "0.0%\n",
      "3.6%\n",
      "7.2%\n",
      "10.8%\n",
      "14.4%\n",
      "18.0%\n",
      "21.6%\n",
      "25.2%\n",
      "28.8%\n",
      "32.4%\n",
      "Done\n"
     ]
    }
   ],
   "source": [
    "fp = fastPACO.FastPACO(angles = angles,\n",
    "                      patch_size = 49)\n",
    "fp.setImageSequence(data)\n",
    "a,b = fp.PACO(model_params = {\"sigma\":2})"
   ]
  },
  {
   "cell_type": "code",
   "execution_count": null,
   "metadata": {},
   "outputs": [],
   "source": [
    "img = b/np.sqrt(a)\n",
    "plt.imshow(img.T, origin='lower')\n",
    "\n",
    "clb = plt.colorbar()\n",
    "clb.ax.set_title('SNR')"
   ]
  },
  {
   "cell_type": "code",
   "execution_count": null,
   "metadata": {},
   "outputs": [],
   "source": [
    "plt.imshow(b.T, origin='lower')\n",
    "\n",
    "clb = plt.colorbar()\n",
    "clb.ax.set_title('Flux')"
   ]
  },
  {
   "cell_type": "code",
   "execution_count": null,
   "metadata": {},
   "outputs": [],
   "source": [
    "plt.imshow((1/np.sqrt(a)).T, origin='lower', vmax=.25)\n",
    "\n",
    "clb = plt.colorbar()"
   ]
  },
  {
   "cell_type": "markdown",
   "metadata": {},
   "source": [
    "## PCA"
   ]
  },
  {
   "cell_type": "code",
   "execution_count": null,
   "metadata": {},
   "outputs": [],
   "source": [
    "data_pca = fits.getdata(os.path.join(path_data, \"PSFsub_mask0.05.fits\"))"
   ]
  },
  {
   "cell_type": "code",
   "execution_count": null,
   "metadata": {},
   "outputs": [],
   "source": [
    "plt.imshow(data_pca[6], origin='lower')\n",
    "\n",
    "clb = plt.colorbar()\n"
   ]
  },
  {
   "cell_type": "code",
   "execution_count": null,
   "metadata": {},
   "outputs": [],
   "source": []
  }
 ],
 "metadata": {
  "kernelspec": {
   "display_name": "Python 3",
   "language": "python",
   "name": "python3"
  },
  "language_info": {
   "codemirror_mode": {
    "name": "ipython",
    "version": 3
   },
   "file_extension": ".py",
   "mimetype": "text/x-python",
   "name": "python",
   "nbconvert_exporter": "python",
   "pygments_lexer": "ipython3",
   "version": "3.7.1"
  }
 },
 "nbformat": 4,
 "nbformat_minor": 2
}
