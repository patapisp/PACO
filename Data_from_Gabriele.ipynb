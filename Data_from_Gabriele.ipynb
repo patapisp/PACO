{
 "cells": [
  {
   "cell_type": "code",
   "execution_count": 1,
   "metadata": {},
   "outputs": [],
   "source": [
    "import numpy as np\n",
    "import os\n",
    "from astropy.io import fits\n",
    "import matplotlib.pyplot as plt\n",
    "\n",
    "import paco.processing.paco as p\n",
    "import paco.processing.fullpaco as f_paco\n",
    "import paco.processing.fastpaco as fastPACO\n",
    "\n",
    "from paco.util.util import *\n",
    "import cv2 as cv2\n",
    "from astropy.convolution import convolve, Gaussian2DKernel, AiryDisk2DKernel\n",
    "from astropy.modeling.models import Gaussian2D\n",
    "\n",
    "from matplotlib.colors import LogNorm \n",
    "#%matplotlib notebook\n"
   ]
  },
  {
   "cell_type": "code",
   "execution_count": 2,
   "metadata": {
    "scrolled": true
   },
   "outputs": [
    {
     "name": "stdout",
     "output_type": "stream",
     "text": [
      "/home/evert/Documents/PACO/PACO/testData/HCI_data/\n",
      "340\n"
     ]
    }
   ],
   "source": [
    "path_data = os.path.dirname(os.getcwd()) + '/PACO/testData/HCI_data/'\n",
    "print(path_data)\n",
    "angles = np.loadtxt(os.path.join(path_data, \"parang.dat\"))\n",
    "angles = angles#-angles[0]\n",
    "print(len(angles))\n"
   ]
  },
  {
   "cell_type": "code",
   "execution_count": 3,
   "metadata": {},
   "outputs": [
    {
     "name": "stdout",
     "output_type": "stream",
     "text": [
      "(340, 100, 100)\n",
      "(100, 100)\n"
     ]
    },
    {
     "name": "stderr",
     "output_type": "stream",
     "text": [
      "/home/evert/.local/share/virtualenvs/PACO-4ds6DMDq/lib/python3.7/site-packages/matplotlib/cbook/__init__.py:2349: DeprecationWarning: Using or importing the ABCs from 'collections' instead of from 'collections.abc' is deprecated, and in 3.8 it will stop working\n",
      "  if isinstance(obj, collections.Iterator):\n",
      "/home/evert/.local/share/virtualenvs/PACO-4ds6DMDq/lib/python3.7/site-packages/matplotlib/cbook/__init__.py:2366: DeprecationWarning: Using or importing the ABCs from 'collections' instead of from 'collections.abc' is deprecated, and in 3.8 it will stop working\n",
      "  return list(data) if isinstance(data, collections.MappingView) else data\n"
     ]
    },
    {
     "data": {
      "image/png": "[encoded data removed]",
      "text/plain": [
       "<Figure size 432x288 with 1 Axes>"
      ]
     },
     "metadata": {
      "needs_background": "light"
     },
     "output_type": "display_data"
    },
    {
     "name": "stdout",
     "output_type": "stream",
     "text": [
      "(100, 100)\n"
     ]
    }
   ],
   "source": [
    "data = fits.getdata(os.path.join(path_data, \"images.fits\"))[:,:-1,:-1]\n",
    "print(np.shape(data))\n",
    "#fig,ax = plt.subplots(nrows=1,ncols=1,figsize=(8,6))\n",
    "#im = ax.imshow(np.median(data,axis=0)[30:70,30:70])\n",
    "plt.figure()\n",
    "print(np.mean(data,axis=0).shape)\n",
    "plt.hist(np.mean(data,axis=0).flatten(),bins =150)\n",
    "plt.xlim(-10,10)\n",
    "plt.show()\n",
    "print(np.shape(data[3]))\n",
    "#fig.colorbar(im,ax = ax)"
   ]
  },
  {
   "cell_type": "markdown",
   "metadata": {},
   "source": [
    "## Full PACO "
   ]
  },
  {
   "cell_type": "code",
   "execution_count": 4,
   "metadata": {},
   "outputs": [],
   "source": [
    "#fp = f_paco.FullPACO(patch_size = 49)\n"
   ]
  },
  {
   "cell_type": "code",
   "execution_count": 5,
   "metadata": {},
   "outputs": [],
   "source": [
    "#fp.setImageSequence(rot_images)\n",
    "#a,b = fp.PACO(angles,scale = 1)"
   ]
  },
  {
   "cell_type": "code",
   "execution_count": 6,
   "metadata": {
    "scrolled": true
   },
   "outputs": [],
   "source": [
    "#phi0s = np.array([[30,30]])\n",
    "#a,b = fp.PACO(angles)\n"
   ]
  },
  {
   "cell_type": "code",
   "execution_count": 7,
   "metadata": {},
   "outputs": [],
   "source": [
    "#img = b/np.sqrt(a)\n",
    "#plt.imshow(img, origin='lower')\n",
    "\n",
    "#clb = plt.colorbar()\n",
    "#clb.ax.set_title('SNR')"
   ]
  },
  {
   "cell_type": "code",
   "execution_count": 8,
   "metadata": {},
   "outputs": [],
   "source": [
    "#plt.imshow(1/np.sqrt(a), origin='lower')\n",
    "\n",
    "#clb = plt.colorbar()"
   ]
  },
  {
   "cell_type": "markdown",
   "metadata": {},
   "source": []
  },
  {
   "cell_type": "code",
   "execution_count": 9,
   "metadata": {},
   "outputs": [],
   "source": [
    "#plt.imshow(b.T, origin='lower')\n",
    "\n",
    "#clb = plt.colorbar()"
   ]
  },
  {
   "cell_type": "markdown",
   "metadata": {},
   "source": [
    "## Fast PACO"
   ]
  },
  {
   "cell_type": "code",
   "execution_count": 10,
   "metadata": {
    "scrolled": true
   },
   "outputs": [
    {
     "name": "stdout",
     "output_type": "stream",
     "text": [
      "Precomputing Statistics...\n",
      "Running PACO...\n",
      "Done\n"
     ]
    },
    {
     "data": {
      "image/png": "[encoded data removed]",
      "text/plain": [
       "<Figure size 432x288 with 1 Axes>"
      ]
     },
     "metadata": {
      "needs_background": "light"
     },
     "output_type": "display_data"
    }
   ],
   "source": [
    "psf = np.median(data,axis=0)[45:56,45:56]\n",
    "psf = psf/np.sum(psf)\n",
    "plt.imshow(psf)\n",
    "\n",
    "fp = fastPACO.FastPACO(image_stack = data,\n",
    "                       psf = psf,\n",
    "                       angles = angles,\n",
    "                       psf_rad = 5,\n",
    "                       px_scale = 1,\n",
    "                       res_scale = 1)\n",
    "\n",
    "#%prun fp.PACO(angles,scale = 1, model_name=psftemplate_model, params={\"psf_template\":s})\n",
    "a,b = fp.PACO(cpu = 1,model_name = psfTemplateModel,model_params = {\"psfTemplateModel\":psf})\n"
   ]
  },
  {
   "cell_type": "code",
   "execution_count": 17,
   "metadata": {},
   "outputs": [
    {
     "name": "stdout",
     "output_type": "stream",
     "text": [
      "[65.  5.]\n",
      "5.9175394337594005\n",
      "1.657497224799701\n",
      "0\n"
     ]
    },
    {
     "data": {
      "text/plain": [
       "Text(0.5,1,'SNR')"
      ]
     },
     "execution_count": 17,
     "metadata": {},
     "output_type": "execute_result"
    },
    {
     "data": {
      "image/png": "[encoded data removed]",
      "text/plain": [
       "<Figure size 432x288 with 2 Axes>"
      ]
     },
     "metadata": {
      "needs_background": "light"
     },
     "output_type": "display_data"
    }
   ],
   "source": [
    "img = b/np.sqrt(a)\n",
    "plt.imshow(img, origin='lower')\n",
    "coords = fp.thresholdDetection(img,5.0)\n",
    "plt.plot(coords[0][0],coords[0][1],'r+')\n",
    "print(coords[0])\n",
    "print(img.T[int(coords[0][0]),int(coords[0][1])])\n",
    "print(np.mean(np.nan_to_num(img[50:70,20:80])))\n",
    "print(np.argmax(img))\n",
    "clb = plt.colorbar()\n",
    "clb.ax.set_title('SNR')"
   ]
  },
  {
   "cell_type": "code",
   "execution_count": null,
   "metadata": {},
   "outputs": [],
   "source": [
    "plt.imshow(b.T, origin='lower')\n",
    "\n",
    "clb = plt.colorbar()\n",
    "clb.ax.set_title('Flux')"
   ]
  },
  {
   "cell_type": "code",
   "execution_count": null,
   "metadata": {},
   "outputs": [],
   "source": [
    "plt.imshow(1/np.sqrt(a).T, origin='lower')\n",
    "\n",
    "clb = plt.colorbar()"
   ]
  },
  {
   "cell_type": "markdown",
   "metadata": {},
   "source": [
    "## PCA"
   ]
  },
  {
   "cell_type": "code",
   "execution_count": null,
   "metadata": {},
   "outputs": [],
   "source": [
    "data_pca = fits.getdata(os.path.join(path_data, \"PSFsub_mask0.05.fits\"))"
   ]
  },
  {
   "cell_type": "code",
   "execution_count": null,
   "metadata": {},
   "outputs": [],
   "source": [
    "plt.imshow(data_pca[6], origin='lower')\n",
    "\n",
    "clb = plt.colorbar()\n"
   ]
  },
  {
   "cell_type": "code",
   "execution_count": null,
   "metadata": {},
   "outputs": [],
   "source": []
  }
 ],
 "metadata": {
  "kernelspec": {
   "display_name": "Python 3",
   "language": "python",
   "name": "python3"
  },
  "language_info": {
   "codemirror_mode": {
    "name": "ipython",
    "version": 3
   },
   "file_extension": ".py",
   "mimetype": "text/x-python",
   "name": "python",
   "nbconvert_exporter": "python",
   "pygments_lexer": "ipython3",
   "version": "3.7.1"
  }
 },
 "nbformat": 4,
 "nbformat_minor": 2
}
