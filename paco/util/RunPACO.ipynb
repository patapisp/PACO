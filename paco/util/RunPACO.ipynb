"""
This will provide a user facing script to easily use the PACO module
"""
